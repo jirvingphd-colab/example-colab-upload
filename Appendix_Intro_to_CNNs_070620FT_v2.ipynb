{
  "nbformat": 4,
  "nbformat_minor": 0,
  "metadata": {
    "colab": {
      "name": "Appendix - Intro to CNNs - 070620FT.ipynb",
      "provenance": [],
      "collapsed_sections": [],
      "machine_shape": "hm",
      "include_colab_link": true
    },
    "kernelspec": {
      "name": "python3",
      "display_name": "Python 3"
    },
    "toc": {
      "base_numbering": 1,
      "nav_menu": {},
      "number_sections": false,
      "sideBar": true,
      "skip_h1_title": false,
      "title_cell": "Table of Contents",
      "title_sidebar": "Contents",
      "toc_cell": false,
      "toc_position": {
        "height": "calc(100% - 180px)",
        "left": "10px",
        "top": "150px",
        "width": "325px"
      },
      "toc_section_display": true,
      "toc_window_display": true
    },
    "accelerator": "GPU",
    "widgets": {
      "application/vnd.jupyter.widget-state+json": {
        "57b6248e4e3848629d38d35c6d68e44d": {
          "model_module": "@jupyter-widgets/controls",
          "model_name": "HBoxModel",
          "state": {
            "_view_name": "HBoxView",
            "_dom_classes": [],
            "_model_name": "HBoxModel",
            "_view_module": "@jupyter-widgets/controls",
            "_model_module_version": "1.5.0",
            "_view_count": null,
            "_view_module_version": "1.5.0",
            "box_style": "",
            "layout": "IPY_MODEL_838c213f71d74d589dd081ba8eb48672",
            "_model_module": "@jupyter-widgets/controls",
            "children": [
              "IPY_MODEL_20370e9019cb48d6af72456885a5fcda",
              "IPY_MODEL_eafd3c03f465426f92ce9b85fdd24fe8"
            ]
          }
        },
        "838c213f71d74d589dd081ba8eb48672": {
          "model_module": "@jupyter-widgets/base",
          "model_name": "LayoutModel",
          "state": {
            "_view_name": "LayoutView",
            "grid_template_rows": null,
            "right": null,
            "justify_content": null,
            "_view_module": "@jupyter-widgets/base",
            "overflow": null,
            "_model_module_version": "1.2.0",
            "_view_count": null,
            "flex_flow": null,
            "width": null,
            "min_width": null,
            "border": null,
            "align_items": null,
            "bottom": null,
            "_model_module": "@jupyter-widgets/base",
            "top": null,
            "grid_column": null,
            "overflow_y": null,
            "overflow_x": null,
            "grid_auto_flow": null,
            "grid_area": null,
            "grid_template_columns": null,
            "flex": null,
            "_model_name": "LayoutModel",
            "justify_items": null,
            "grid_row": null,
            "max_height": null,
            "align_content": null,
            "visibility": null,
            "align_self": null,
            "height": null,
            "min_height": null,
            "padding": null,
            "grid_auto_rows": null,
            "grid_gap": null,
            "max_width": null,
            "order": null,
            "_view_module_version": "1.2.0",
            "grid_template_areas": null,
            "object_position": null,
            "object_fit": null,
            "grid_auto_columns": null,
            "margin": null,
            "display": null,
            "left": null
          }
        },
        "20370e9019cb48d6af72456885a5fcda": {
          "model_module": "@jupyter-widgets/controls",
          "model_name": "FloatProgressModel",
          "state": {
            "_view_name": "ProgressView",
            "style": "IPY_MODEL_c319956488074c41b142682cf9adf9cc",
            "_dom_classes": [],
            "description": "100%",
            "_model_name": "FloatProgressModel",
            "bar_style": "success",
            "max": 2000,
            "_view_module": "@jupyter-widgets/controls",
            "_model_module_version": "1.5.0",
            "value": 2000,
            "_view_count": null,
            "_view_module_version": "1.5.0",
            "orientation": "horizontal",
            "min": 0,
            "description_tooltip": null,
            "_model_module": "@jupyter-widgets/controls",
            "layout": "IPY_MODEL_5ec2929def8e44bbabea47a6bcaba3fb"
          }
        },
        "eafd3c03f465426f92ce9b85fdd24fe8": {
          "model_module": "@jupyter-widgets/controls",
          "model_name": "HTMLModel",
          "state": {
            "_view_name": "HTMLView",
            "style": "IPY_MODEL_28cf2271b38b4688804ee953608973ef",
            "_dom_classes": [],
            "description": "",
            "_model_name": "HTMLModel",
            "placeholder": "​",
            "_view_module": "@jupyter-widgets/controls",
            "_model_module_version": "1.5.0",
            "value": " 2000/2000 [00:17&lt;00:00, 117.07it/s]",
            "_view_count": null,
            "_view_module_version": "1.5.0",
            "description_tooltip": null,
            "_model_module": "@jupyter-widgets/controls",
            "layout": "IPY_MODEL_90f7916b6f104cc0967d36129b99ca06"
          }
        },
        "c319956488074c41b142682cf9adf9cc": {
          "model_module": "@jupyter-widgets/controls",
          "model_name": "ProgressStyleModel",
          "state": {
            "_view_name": "StyleView",
            "_model_name": "ProgressStyleModel",
            "description_width": "initial",
            "_view_module": "@jupyter-widgets/base",
            "_model_module_version": "1.5.0",
            "_view_count": null,
            "_view_module_version": "1.2.0",
            "bar_color": null,
            "_model_module": "@jupyter-widgets/controls"
          }
        },
        "5ec2929def8e44bbabea47a6bcaba3fb": {
          "model_module": "@jupyter-widgets/base",
          "model_name": "LayoutModel",
          "state": {
            "_view_name": "LayoutView",
            "grid_template_rows": null,
            "right": null,
            "justify_content": null,
            "_view_module": "@jupyter-widgets/base",
            "overflow": null,
            "_model_module_version": "1.2.0",
            "_view_count": null,
            "flex_flow": null,
            "width": null,
            "min_width": null,
            "border": null,
            "align_items": null,
            "bottom": null,
            "_model_module": "@jupyter-widgets/base",
            "top": null,
            "grid_column": null,
            "overflow_y": null,
            "overflow_x": null,
            "grid_auto_flow": null,
            "grid_area": null,
            "grid_template_columns": null,
            "flex": null,
            "_model_name": "LayoutModel",
            "justify_items": null,
            "grid_row": null,
            "max_height": null,
            "align_content": null,
            "visibility": null,
            "align_self": null,
            "height": null,
            "min_height": null,
            "padding": null,
            "grid_auto_rows": null,
            "grid_gap": null,
            "max_width": null,
            "order": null,
            "_view_module_version": "1.2.0",
            "grid_template_areas": null,
            "object_position": null,
            "object_fit": null,
            "grid_auto_columns": null,
            "margin": null,
            "display": null,
            "left": null
          }
        },
        "28cf2271b38b4688804ee953608973ef": {
          "model_module": "@jupyter-widgets/controls",
          "model_name": "DescriptionStyleModel",
          "state": {
            "_view_name": "StyleView",
            "_model_name": "DescriptionStyleModel",
            "description_width": "",
            "_view_module": "@jupyter-widgets/base",
            "_model_module_version": "1.5.0",
            "_view_count": null,
            "_view_module_version": "1.2.0",
            "_model_module": "@jupyter-widgets/controls"
          }
        },
        "90f7916b6f104cc0967d36129b99ca06": {
          "model_module": "@jupyter-widgets/base",
          "model_name": "LayoutModel",
          "state": {
            "_view_name": "LayoutView",
            "grid_template_rows": null,
            "right": null,
            "justify_content": null,
            "_view_module": "@jupyter-widgets/base",
            "overflow": null,
            "_model_module_version": "1.2.0",
            "_view_count": null,
            "flex_flow": null,
            "width": null,
            "min_width": null,
            "border": null,
            "align_items": null,
            "bottom": null,
            "_model_module": "@jupyter-widgets/base",
            "top": null,
            "grid_column": null,
            "overflow_y": null,
            "overflow_x": null,
            "grid_auto_flow": null,
            "grid_area": null,
            "grid_template_columns": null,
            "flex": null,
            "_model_name": "LayoutModel",
            "justify_items": null,
            "grid_row": null,
            "max_height": null,
            "align_content": null,
            "visibility": null,
            "align_self": null,
            "height": null,
            "min_height": null,
            "padding": null,
            "grid_auto_rows": null,
            "grid_gap": null,
            "max_width": null,
            "order": null,
            "_view_module_version": "1.2.0",
            "grid_template_areas": null,
            "object_position": null,
            "object_fit": null,
            "grid_auto_columns": null,
            "margin": null,
            "display": null,
            "left": null
          }
        }
      }
    }
  },
  "cells": [
    {
      "cell_type": "markdown",
      "metadata": {
        "id": "view-in-github",
        "colab_type": "text"
      },
      "source": [
        "<a href=\"https://colab.research.google.com/github/jirvingphd-colab/example-colab-upload/blob/main/Appendix_Intro_to_CNNs_070620FT_v2.ipynb\" target=\"_parent\"><img src=\"https://colab.research.google.com/assets/colab-badge.svg\" alt=\"Open In Colab\"/></a>"
      ]
    },
    {
      "cell_type": "markdown",
      "metadata": {
        "id": "Trd6RcQwP-m8"
      },
      "source": [
        "# Convolutional Neural Networks"
      ]
    },
    {
      "cell_type": "markdown",
      "metadata": {
        "id": "YE6i_Rg4G11J"
      },
      "source": [
        ""
      ]
    },
    {
      "cell_type": "markdown",
      "metadata": {
        "id": "28h_NKJy7Yby"
      },
      "source": [
        "- 10/28/20\n",
        "- online-ds-ft-070620"
      ]
    },
    {
      "cell_type": "markdown",
      "metadata": {
        "id": "9xi6_g9a7YTB"
      },
      "source": [
        "## STUDY GROUP RESOURCES"
      ]
    },
    {
      "cell_type": "markdown",
      "metadata": {
        "id": "Gp_2zRYT7YAz"
      },
      "source": [
        "\n",
        "- [NOTEBOOK: This Notebook on Google Colab](https://drive.google.com/file/d/1rxkuydyd_wNdiuKh22-e6mr-zlsRVC1N/view?usp=sharing)\n",
        "- [DATASET: Zip File for Dog vs Cats](https://drive.google.com/open?id=1WQ0fdJrNs5qVinJ_6rmVIIinOJD3p-n4)\n",
        "- [POWERPOINT: of Human Visual System](https://github.com/jirvingphd/fsds_100719_cohort_notes/blob/master/bio_neural_networks.pptx)\n",
        "- [VIDEO: Study Group Video Recording]()\n"
      ]
    },
    {
      "cell_type": "markdown",
      "metadata": {
        "id": "fH6TT60aTgM8"
      },
      "source": [
        "## LEARNING OBJECTIVES\n"
      ]
    },
    {
      "cell_type": "markdown",
      "metadata": {
        "id": "pon77kz7oL0P"
      },
      "source": [
        "\n",
        "- Learn about the retina /human visual system\n",
        "- Relate human to CNNS\n",
        "- Discuss using colab/colab pro \n",
        "- Fitting, evaluating, saving CNNs\n",
        "- Transfer Learning & Pre-trained Networks "
      ]
    },
    {
      "cell_type": "markdown",
      "metadata": {
        "id": "M9kJLR7pgd5I"
      },
      "source": [
        "## Using Colab Pro "
      ]
    },
    {
      "cell_type": "code",
      "metadata": {
        "id": "8XX6Sd5dpuOQ",
        "outputId": "b1cc5da7-e2ab-4cf3-e8cf-5a44c093e13d",
        "colab": {
          "base_uri": "https://localhost:8080/"
        }
      },
      "source": [
        "#https://colab.research.google.com/notebooks/pro.ipynb\n",
        "gpu_info = !nvidia-smi\n",
        "gpu_info = '\\n'.join(gpu_info)\n",
        "if gpu_info.find('failed') >= 0:\n",
        "  print('Select the Runtime → \"Change runtime type\" menu to enable a GPU accelerator, ')\n",
        "  print('and then re-execute this cell.')\n",
        "else:\n",
        "  print(gpu_info)"
      ],
      "execution_count": 3,
      "outputs": [
        {
          "output_type": "stream",
          "text": [
            "Fri Oct 30 15:23:34 2020       \n",
            "+-----------------------------------------------------------------------------+\n",
            "| NVIDIA-SMI 455.32.00    Driver Version: 418.67       CUDA Version: 10.1     |\n",
            "|-------------------------------+----------------------+----------------------+\n",
            "| GPU  Name        Persistence-M| Bus-Id        Disp.A | Volatile Uncorr. ECC |\n",
            "| Fan  Temp  Perf  Pwr:Usage/Cap|         Memory-Usage | GPU-Util  Compute M. |\n",
            "|                               |                      |               MIG M. |\n",
            "|===============================+======================+======================|\n",
            "|   0  Tesla V100-SXM2...  Off  | 00000000:00:04.0 Off |                    0 |\n",
            "| N/A   35C    P0    25W / 300W |      0MiB / 16130MiB |      0%      Default |\n",
            "|                               |                      |                 ERR! |\n",
            "+-------------------------------+----------------------+----------------------+\n",
            "                                                                               \n",
            "+-----------------------------------------------------------------------------+\n",
            "| Processes:                                                                  |\n",
            "|  GPU   GI   CI        PID   Type   Process name                  GPU Memory |\n",
            "|        ID   ID                                                   Usage      |\n",
            "|=============================================================================|\n",
            "|  No running processes found                                                 |\n",
            "+-----------------------------------------------------------------------------+\n"
          ],
          "name": "stdout"
        }
      ]
    },
    {
      "cell_type": "code",
      "metadata": {
        "id": "CJCNXnmPqBC6",
        "outputId": "fc9c00a7-14cc-4a7a-8f5c-67690a64ba4a",
        "colab": {
          "base_uri": "https://localhost:8080/"
        }
      },
      "source": [
        "from psutil import virtual_memory\n",
        "ram_gb = virtual_memory().total / 1e9\n",
        "print('Your runtime has {:.1f} gigabytes of available RAM\\n'.format(ram_gb))\n",
        "\n",
        "if ram_gb < 20:\n",
        "  print('To enable a high-RAM runtime, select the Runtime → \"Change runtime type\"')\n",
        "  print('menu, and then select High-RAM in the Runtime shape dropdown. Then, ')\n",
        "  print('re-execute this cell.')\n",
        "else:\n",
        "  print('You are using a high-RAM runtime!')"
      ],
      "execution_count": 4,
      "outputs": [
        {
          "output_type": "stream",
          "text": [
            "Your runtime has 27.4 gigabytes of available RAM\n",
            "\n",
            "You are using a high-RAM runtime!\n"
          ],
          "name": "stdout"
        }
      ]
    },
    {
      "cell_type": "markdown",
      "metadata": {
        "id": "8qbS0lSrghaO"
      },
      "source": [
        "## Installs & Imports"
      ]
    },
    {
      "cell_type": "code",
      "metadata": {
        "id": "pEVGr51Nyvui"
      },
      "source": [
        "import numpy as np\n",
        "import tensorflow as tf\n",
        "\n",
        "np.random.seed(321)\n",
        "tf.random.set_seed(321)"
      ],
      "execution_count": 5,
      "outputs": []
    },
    {
      "cell_type": "code",
      "metadata": {
        "ExecuteTime": {
          "end_time": "2020-02-13T16:03:21.650842Z",
          "start_time": "2020-02-13T16:03:14.745924Z"
        },
        "id": "KHc94KpTlbRj"
      },
      "source": [
        "import pandas as pd\n",
        "import seaborn as sns\n",
        "import matplotlib.pyplot as plt\n",
        "import matplotlib as mpl\n",
        "import os, sys, glob\n",
        "\n",
        "\n",
        "import datetime as dt\n",
        "from sklearn import metrics\n",
        "from tzlocal import get_localzone"
      ],
      "execution_count": 6,
      "outputs": []
    },
    {
      "cell_type": "code",
      "metadata": {
        "ExecuteTime": {
          "end_time": "2020-02-13T16:03:22.790837Z",
          "start_time": "2020-02-13T16:03:21.652166Z"
        },
        "id": "2yML_wHNlbRn"
      },
      "source": [
        "from tensorflow.keras.preprocessing.image import ImageDataGenerator\n",
        "from tensorflow.keras.preprocessing.image import array_to_img, img_to_array, load_img\n",
        "\n",
        "# Importing the Keras libraries and packages\n",
        "from tensorflow.keras.models import Sequential\n",
        "from tensorflow.keras.layers import Conv2D\n",
        "from tensorflow.keras.layers import MaxPooling2D\n",
        "from tensorflow.keras.layers import Flatten\n",
        "from tensorflow.keras.layers import Dense\n",
        "from tensorflow.keras import callbacks, models, layers, optimizers, regularizers\n",
        "\n",
        "# import tensorflow.compat.v1 as tf\n",
        "# tf.disable_v2_behavior()"
      ],
      "execution_count": 7,
      "outputs": []
    },
    {
      "cell_type": "markdown",
      "metadata": {
        "id": "E7D1Ks2mhJim"
      },
      "source": [
        "# Loading in the data"
      ]
    },
    {
      "cell_type": "markdown",
      "metadata": {
        "id": "MqhwVmwksJmu"
      },
      "source": [
        "- [Google Drive Link to zip file](https://drive.google.com/open?id=1WQ0fdJrNs5qVinJ_6rmVIIinOJD3p-n4)\n",
        "- [Blog Post on Using Colab for ANNs](https://medium.com/datadriveninvestor/speed-up-your-image-training-on-google-colab-dc95ea1491cf)\n"
      ]
    },
    {
      "cell_type": "code",
      "metadata": {
        "id": "OEV1zYBb9q9R",
        "outputId": "d8c8db6b-4f92-4cae-d86e-7d5e23e0d4a1",
        "colab": {
          "base_uri": "https://localhost:8080/"
        }
      },
      "source": [
        "## Mount Google Drive\n",
        "from google.colab import drive\n",
        "drive.mount('/gdrive',force_remount=True)\n"
      ],
      "execution_count": 8,
      "outputs": [
        {
          "output_type": "stream",
          "text": [
            "Mounted at /gdrive\n"
          ],
          "name": "stdout"
        }
      ]
    },
    {
      "cell_type": "code",
      "metadata": {
        "id": "PMR1zxSfHs73",
        "outputId": "5a0758e0-ffcc-4de4-c14b-1dc1527fd0e0",
        "colab": {
          "base_uri": "https://localhost:8080/"
        }
      },
      "source": [
        "\n",
        "def print_path(return_=False):\n",
        "    \"\"\"Prints the current working directory\"\"\"\n",
        "    path = os.path.abspath(os.curdir)\n",
        "    print(\"Current Directory = \",path)\n",
        "    if return_:\n",
        "        return path\n",
        "        \n",
        "print_path()"
      ],
      "execution_count": 9,
      "outputs": [
        {
          "output_type": "stream",
          "text": [
            "Current Directory =  /content\n"
          ],
          "name": "stdout"
        }
      ]
    },
    {
      "cell_type": "code",
      "metadata": {
        "id": "LZ5YIuJtmTsL",
        "outputId": "d4f51ade-f638-4b8f-9405-8ce90259c809",
        "colab": {
          "base_uri": "https://localhost:8080/"
        }
      },
      "source": [
        "## cd to root directory and then cd to above folder\n",
        "%cd ~\n",
        "%cd ..\n",
        "print_path()"
      ],
      "execution_count": 10,
      "outputs": [
        {
          "output_type": "stream",
          "text": [
            "/root\n",
            "/\n",
            "Current Directory =  /\n"
          ],
          "name": "stdout"
        }
      ]
    },
    {
      "cell_type": "code",
      "metadata": {
        "id": "jpxsftugIJ7t"
      },
      "source": [
        "def print_dir_contents(fpath=None):\n",
        "    \"\"\"Function to print the contents of the filepath provided.\n",
        "    Defaults to the current directory\"\"\"\n",
        "    if fpath is None:\n",
        "        fpath = os.path.abspath(os.curdir)\n",
        "\n",
        "    print(f\"CONTENTS OF FOLDER: '{fpath}':\")\n",
        "    files = sorted(os.listdir(fpath))\n",
        "    tab = '\\n\\t'\n",
        "    print(\"\\t\"+tab.join(files))"
      ],
      "execution_count": 11,
      "outputs": []
    },
    {
      "cell_type": "code",
      "metadata": {
        "id": "NEkCfU3EIRJY",
        "outputId": "f23aa996-99dd-486f-ddb7-9fd35bdbc1a6",
        "colab": {
          "base_uri": "https://localhost:8080/"
        }
      },
      "source": [
        "print_dir_contents()"
      ],
      "execution_count": 12,
      "outputs": [
        {
          "output_type": "stream",
          "text": [
            "CONTENTS OF FOLDER: '/':\n",
            "\t.dockerenv\n",
            "\tbin\n",
            "\tboot\n",
            "\tcontent\n",
            "\tdatalab\n",
            "\tdev\n",
            "\tetc\n",
            "\tgdrive\n",
            "\thome\n",
            "\tlib\n",
            "\tlib32\n",
            "\tlib64\n",
            "\tmedia\n",
            "\tmnt\n",
            "\topt\n",
            "\tproc\n",
            "\troot\n",
            "\trun\n",
            "\tsbin\n",
            "\tsrv\n",
            "\tswift\n",
            "\tsys\n",
            "\ttensorflow-1.15.2\n",
            "\ttmp\n",
            "\ttools\n",
            "\tusr\n",
            "\tvar\n"
          ],
          "name": "stdout"
        }
      ]
    },
    {
      "cell_type": "code",
      "metadata": {
        "id": "TrorJlm_Ddq3",
        "outputId": "9e2aa894-b33b-4568-f9d9-8e7900a0c839",
        "colab": {
          "base_uri": "https://localhost:8080/"
        }
      },
      "source": [
        "## From the top-level directory, \n",
        "## LOCATION OF ZIP FILE\n",
        "source_folder = r'/gdrive/My Drive/Datasets/'\n",
        "print_dir_contents(source_folder)"
      ],
      "execution_count": 13,
      "outputs": [
        {
          "output_type": "stream",
          "text": [
            "CONTENTS OF FOLDER: '/gdrive/My Drive/Datasets/':\n",
            "\tCOVID19\n",
            "\tModels\n",
            "\tNeuroscience\n",
            "\tarrivals.xlsx\n",
            "\tchest-xray-pneumonia-jmi.zip\n",
            "\tchest-xray-pneumonia.zip\n",
            "\tdata.sqlite\n",
            "\tdogs-vs-cats\n",
            "\tdogs-vs-cats-sorted\n",
            "\tdogs-vs-cats-sorted.zip\n",
            "\tdogs-vs-catsexample_save.jpg\n",
            "\tkaggle_chest_xray.zip\n",
            "\tmodels\n",
            "\tpets_database.db\n",
            "\tplanets.db\n",
            "\ttitanic\n"
          ],
          "name": "stdout"
        }
      ]
    },
    {
      "cell_type": "code",
      "metadata": {
        "id": "uXNPOdk1J24A"
      },
      "source": [
        "def find_zipfile(source_folder,ZIPFILE_STR = '*.zip'):\n",
        "    \"\"\"Modify the ZIPFILE_STR to change the search pattern for glob (default is '*.zip')\"\"\"\n",
        "    files = glob.glob(source_folder+ ZIPFILE_STR,\n",
        "                    recursive=True)\n",
        "    \n",
        "\n",
        "    if len(files)>1:\n",
        "        print(\"[!] More than 1 file found:\")\n",
        "        for i,file in enumerate(files):\n",
        "            print(f\"{file} \\t= File {i}\")\n",
        "\n",
        "        print('[!] Must set fpath = output[i] (where i is the file of interest)')\n",
        "    else:\n",
        "        # fpath = files[0]\n",
        "        print('[i] Found 1 matching file:')\n",
        "        print('\\tMust set fpath = output[0]')\n",
        "    return files"
      ],
      "execution_count": 14,
      "outputs": []
    },
    {
      "cell_type": "code",
      "metadata": {
        "id": "Tzlu4rAgMI6e",
        "outputId": "d84f16ca-8060-43aa-99e9-132f48e79e13",
        "colab": {
          "base_uri": "https://localhost:8080/"
        }
      },
      "source": [
        "## Modify the ZIPFILE_STR to change the search pattern for glob (default is '*.zip')\n",
        "ZIPFILE_STR = '*sorted.zip'\n",
        "\n",
        "files = find_zipfile(source_folder,ZIPFILE_STR)\n",
        "source_file = files[0]\n",
        "print(source_file)"
      ],
      "execution_count": 15,
      "outputs": [
        {
          "output_type": "stream",
          "text": [
            "[i] Found 1 matching file:\n",
            "\tMust set fpath = output[0]\n",
            "/gdrive/My Drive/Datasets/dogs-vs-cats-sorted.zip\n"
          ],
          "name": "stdout"
        }
      ]
    },
    {
      "cell_type": "code",
      "metadata": {
        "id": "r25YDOzSMNQK"
      },
      "source": [
        ""
      ],
      "execution_count": 15,
      "outputs": []
    },
    {
      "cell_type": "markdown",
      "metadata": {
        "id": "EMJda-GqUkLS"
      },
      "source": [
        "\n",
        "#### The following cells are very important.\n",
        "- It will copy the zip file to the virtual machines root directory, unzip it, and then remove the zip file. "
      ]
    },
    {
      "cell_type": "code",
      "metadata": {
        "id": "MnW9nB5yJ2W3"
      },
      "source": [
        "## Get the name of the zipfile without folder\n",
        "zip_path = source_file\n",
        "fname = zip_path.split('/')[-1]\n",
        "\n",
        "!cp \"{zip_path}\" .\n",
        "\n",
        "!unzip -q \"{fname}\" \n",
        "!rm \"{fname}\" "
      ],
      "execution_count": 16,
      "outputs": []
    },
    {
      "cell_type": "code",
      "metadata": {
        "id": "U_HgT1oPKRFH",
        "outputId": "299fb04e-5ef8-42ac-8eed-19135b4ba4c8",
        "colab": {
          "base_uri": "https://localhost:8080/"
        }
      },
      "source": [
        "print_dir_contents()#'dogs-vs-cats-sorted')"
      ],
      "execution_count": 17,
      "outputs": [
        {
          "output_type": "stream",
          "text": [
            "CONTENTS OF FOLDER: '/':\n",
            "\t.dockerenv\n",
            "\t__MACOSX\n",
            "\tbin\n",
            "\tboot\n",
            "\tcontent\n",
            "\tdatalab\n",
            "\tdev\n",
            "\tdogs-vs-cats-sorted\n",
            "\tetc\n",
            "\tgdrive\n",
            "\thome\n",
            "\tlib\n",
            "\tlib32\n",
            "\tlib64\n",
            "\tmedia\n",
            "\tmnt\n",
            "\topt\n",
            "\tproc\n",
            "\troot\n",
            "\trun\n",
            "\tsbin\n",
            "\tsrv\n",
            "\tswift\n",
            "\tsys\n",
            "\ttensorflow-1.15.2\n",
            "\ttmp\n",
            "\ttools\n",
            "\tusr\n",
            "\tvar\n"
          ],
          "name": "stdout"
        }
      ]
    },
    {
      "cell_type": "markdown",
      "metadata": {
        "id": "EmAH1aUT8g8X"
      },
      "source": [
        "## Preparing the Data with ImageDataGenerator & Flow From Directory"
      ]
    },
    {
      "cell_type": "markdown",
      "metadata": {
        "id": "AFAlTuXB8I4U"
      },
      "source": [
        "### Defining Folder Structure"
      ]
    },
    {
      "cell_type": "code",
      "metadata": {
        "id": "JrhiTSWlzXdG",
        "outputId": "8ef83266-4363-4c6c-8957-257c75ab219f",
        "colab": {
          "base_uri": "https://localhost:8080/"
        }
      },
      "source": [
        "# change dataset_folder to match where you stored the files\n",
        "base_folder =\"dogs-vs-cats-sorted/\" \n",
        "\n",
        "## Check contents of base folder\n",
        "print_dir_contents(base_folder)"
      ],
      "execution_count": 18,
      "outputs": [
        {
          "output_type": "stream",
          "text": [
            "CONTENTS OF FOLDER: 'dogs-vs-cats-sorted/':\n",
            "\t.DS_Store\n",
            "\tsingle_prediction\n",
            "\ttest_set\n",
            "\ttraining_set\n"
          ],
          "name": "stdout"
        }
      ]
    },
    {
      "cell_type": "code",
      "metadata": {
        "id": "FfUOYXwVzdqs",
        "outputId": "4264afe3-e639-466f-c658-1ff288889773",
        "colab": {
          "base_uri": "https://localhost:8080/"
        }
      },
      "source": [
        "## Define train_folder and test_folder\n",
        "train_folder = base_folder+\"training_set/\"\n",
        "test_folder =  base_folder+\"test_set/\"\n",
        "\n",
        "## Check contents of train_folder\n",
        "print_dir_contents(train_folder)"
      ],
      "execution_count": 19,
      "outputs": [
        {
          "output_type": "stream",
          "text": [
            "CONTENTS OF FOLDER: 'dogs-vs-cats-sorted/training_set/':\n",
            "\t.DS_Store\n",
            "\tcats\n",
            "\tdogs\n"
          ],
          "name": "stdout"
        }
      ]
    },
    {
      "cell_type": "code",
      "metadata": {
        "id": "OcjDJDjVzgse",
        "outputId": "80c9f0e5-c88a-46f7-90f8-a8f110428cfc",
        "colab": {
          "base_uri": "https://localhost:8080/"
        }
      },
      "source": [
        "## IF WE WANT TO USE A DENSE-LAYERS-ONLY MODEL, will need batch sizes as number of images\n",
        "def get_num_images(train_folder,folders=['dogs','cats'],verbose=False):\n",
        "    \"\"\"Gets the total number of images from all folders listed\"\"\"\n",
        "    num_images = 0\n",
        "    for folder in folders:\n",
        "        num_in_folder = len(os.listdir(train_folder+folder))\n",
        "        \n",
        "        if verbose:\n",
        "            print(f\"- There are {num_in_folder} images in {folder} folder.\")\n",
        "        num_images+=num_in_folder\n",
        "    return num_images\n",
        "\n",
        "### WE WANT TO GENERATE ENTIRE DATASET WITH the I.D.Gs.\n",
        "## SO HERE WE CALCULATE HOW MANY IMAGES SHOULD BE IN EACH BATCH SIZE FOR THE GENERATOR\n",
        "## Get the Number of total images for batch size \n",
        "NUM_TRAIN_IMGS = get_num_images(train_folder,verbose=True)\n",
        "NUM_VAL_TEST_IMGS = get_num_images(test_folder,verbose=True)\n",
        "\n"
      ],
      "execution_count": 20,
      "outputs": [
        {
          "output_type": "stream",
          "text": [
            "- There are 4001 images in dogs folder.\n",
            "- There are 4001 images in cats folder.\n",
            "- There are 1001 images in dogs folder.\n",
            "- There are 1001 images in cats folder.\n"
          ],
          "name": "stdout"
        }
      ]
    },
    {
      "cell_type": "code",
      "metadata": {
        "id": "XeptJ9Ml8CxA",
        "outputId": "c916c979-f8eb-4558-f269-230403be5259",
        "colab": {
          "base_uri": "https://localhost:8080/"
        }
      },
      "source": [
        "## Make validation split\n",
        "VAL_SPLIT = 0.2\n",
        "\n",
        "NUM_VAL_IMGS = round(NUM_VAL_TEST_IMGS*VAL_SPLIT)\n",
        "NUM_TEST_IMGS = round(NUM_VAL_TEST_IMGS*(1-VAL_SPLIT))\n",
        "\n",
        "print(f\"Training images: {NUM_TRAIN_IMGS}\")\n",
        "print(f\"Test images: {NUM_TEST_IMGS}\")\n",
        "print(f\"Val images: {NUM_VAL_IMGS}\")\n",
        "NUM_TRAIN_IMGS,NUM_TEST_IMGS,NUM_VAL_IMGS"
      ],
      "execution_count": 21,
      "outputs": [
        {
          "output_type": "stream",
          "text": [
            "Training images: 8002\n",
            "Test images: 1602\n",
            "Val images: 400\n"
          ],
          "name": "stdout"
        },
        {
          "output_type": "execute_result",
          "data": {
            "text/plain": [
              "(8002, 1602, 400)"
            ]
          },
          "metadata": {
            "tags": []
          },
          "execution_count": 21
        }
      ]
    },
    {
      "cell_type": "code",
      "metadata": {
        "id": "pbsI5rigzuET"
      },
      "source": [
        "## MAKING IMAGE DATA GENERATORS FOR TRAIN TEST VAL\n",
        "IMG_SIZE = (256,256)\n",
        "# BATCH_SIZE = 528\n",
        "\n",
        "## Create ImageDataGenerators\n",
        "train_datagen = ImageDataGenerator(rescale=1./255)#,\n",
        "                                #    shear_range = 0.2, zoom_range = 0.2,\n",
        "                                #    horizontal_flip = True)\n",
        "\n",
        "test_val_datagen = ImageDataGenerator(rescale=1./255,\n",
        "                                      validation_split=VAL_SPLIT)\n"
      ],
      "execution_count": 22,
      "outputs": []
    },
    {
      "cell_type": "code",
      "metadata": {
        "id": "7JXMkouJ0n1y",
        "outputId": "02aef725-6b71-4aba-cd85-3d30d7d7ab78",
        "colab": {
          "base_uri": "https://localhost:8080/"
        }
      },
      "source": [
        "## Make Training Sets With All Images\n",
        "training_set = train_datagen.flow_from_directory(train_folder,\n",
        "                                                      target_size=IMG_SIZE,\n",
        "                                                     class_mode='binary',\n",
        "                                                     batch_size=NUM_TRAIN_IMGS)#BATCH_SIZE)                                          \n",
        "                                                      \n",
        "\n",
        "test_set = test_val_datagen.flow_from_directory(test_folder,\n",
        "                                                      target_size=IMG_SIZE,\n",
        "                                                     class_mode='binary',\n",
        "                                                     batch_size=NUM_TEST_IMGS,#BATCH_SIZE,\n",
        "                                                    subset='training')  \n",
        "\n",
        "val_set = test_val_datagen.flow_from_directory(test_folder,\n",
        "                                                      target_size=IMG_SIZE,\n",
        "                                                     class_mode='binary',\n",
        "                                                     batch_size=NUM_VAL_IMGS,\n",
        "                                                    subset='validation')  "
      ],
      "execution_count": 23,
      "outputs": [
        {
          "output_type": "stream",
          "text": [
            "Found 8000 images belonging to 2 classes.\n",
            "Found 1600 images belonging to 2 classes.\n",
            "Found 400 images belonging to 2 classes.\n"
          ],
          "name": "stdout"
        }
      ]
    },
    {
      "cell_type": "code",
      "metadata": {
        "id": "A1TIvKQSKyU2",
        "outputId": "554bed7b-c964-4ac1-b074-f0d0b581b0b9",
        "colab": {
          "base_uri": "https://localhost:8080/"
        }
      },
      "source": [
        "## Make Training Sets With All Images\n",
        "example_set = train_datagen.flow_from_directory(train_folder,\n",
        "                                                      target_size=IMG_SIZE,\n",
        "                                                     class_mode='binary',\n",
        "                                                     batch_size=32)"
      ],
      "execution_count": 24,
      "outputs": [
        {
          "output_type": "stream",
          "text": [
            "Found 8000 images belonging to 2 classes.\n"
          ],
          "name": "stdout"
        }
      ]
    },
    {
      "cell_type": "code",
      "metadata": {
        "id": "gfEfO2TmK6Mk",
        "outputId": "31bef4ac-00f6-4708-9047-d2654542b90c",
        "colab": {
          "base_uri": "https://localhost:8080/"
        }
      },
      "source": [
        "X_ex,y_ex = next(example_set)\n",
        "y_ex"
      ],
      "execution_count": 25,
      "outputs": [
        {
          "output_type": "execute_result",
          "data": {
            "text/plain": [
              "array([0., 1., 1., 1., 0., 1., 0., 0., 1., 0., 0., 1., 1., 0., 0., 1., 1.,\n",
              "       0., 1., 0., 1., 0., 1., 1., 0., 0., 0., 1., 1., 0., 0., 1.],\n",
              "      dtype=float32)"
            ]
          },
          "metadata": {
            "tags": []
          },
          "execution_count": 25
        }
      ]
    },
    {
      "cell_type": "code",
      "metadata": {
        "id": "Wmc0tVxV8Jd3",
        "outputId": "ad54d70e-db01-455f-f621-a316f1fe72c2",
        "colab": {
          "base_uri": "https://localhost:8080/"
        }
      },
      "source": [
        "X_train,y_train = next(training_set)\n",
        "X_test,y_test = next(test_set)\n",
        "X_val,y_val = next(val_set)\n",
        "\n",
        "[print(y.shape) for y in [y_train,y_test,y_val]]"
      ],
      "execution_count": 26,
      "outputs": [
        {
          "output_type": "stream",
          "text": [
            "(8000,)\n",
            "(1600,)\n",
            "(400,)\n"
          ],
          "name": "stdout"
        },
        {
          "output_type": "execute_result",
          "data": {
            "text/plain": [
              "[None, None, None]"
            ]
          },
          "metadata": {
            "tags": []
          },
          "execution_count": 26
        }
      ]
    },
    {
      "cell_type": "code",
      "metadata": {
        "id": "pdxR2hN6QlWR",
        "outputId": "5862ce7c-95c5-48f8-d321-3004ecc207fa",
        "colab": {
          "base_uri": "https://localhost:8080/",
          "height": 290
        }
      },
      "source": [
        "i = np.random.choice(len(y_train))\n",
        "print(f\"Label={y_train[i]}\")\n",
        "array_to_img(X_train[i])"
      ],
      "execution_count": 27,
      "outputs": [
        {
          "output_type": "stream",
          "text": [
            "Label=0.0\n"
          ],
          "name": "stdout"
        },
        {
          "output_type": "execute_result",
          "data": {
            "image/png": "[encoded data removed]",
            "text/plain": [
              "<PIL.Image.Image image mode=RGB size=256x256 at 0x7F3B35187C88>"
            ]
          },
          "metadata": {
            "tags": []
          },
          "execution_count": 27
        }
      ]
    },
    {
      "cell_type": "markdown",
      "metadata": {
        "id": "P1-7hb_lhVdU"
      },
      "source": [
        "# Using CNNs"
      ]
    },
    {
      "cell_type": "markdown",
      "metadata": {
        "id": "GQ1kiVMSRVHK"
      },
      "source": [
        "## Modeling Functions"
      ]
    },
    {
      "cell_type": "code",
      "metadata": {
        "id": "3aXl-11Am-jR"
      },
      "source": [
        "def plot_history(history, metric_list=['loss','acc']):\n",
        "    \"\"\"Plots keras training history\"\"\"\n",
        "    ## Get History  as adf\n",
        "    history_df = pd.DataFrame(history.history)\n",
        "    ## PLotn all fo the metrics in history\n",
        "   \n",
        "    for metric in metric_list:\n",
        "        history_df[[col for col in history_df.columns if metric in col]].plot(\n",
        "        marker='o',ls=':')\n",
        "        \n",
        "    plt.suptitle('Training History')\n",
        "    plt.show()\n",
        "\n",
        "    return plt.gcf()\n",
        "\n",
        "\n",
        "def make_fit_plot_model(build_fn,X_train,y_train,X_val,y_val, epochs=3,fit_kws={},binary=True,evaluate=True):\n",
        "    \"\"\"Builds, fits, and (optionally) evaluate a neural network created\n",
        "    from the build_fn\"\"\"\n",
        "\n",
        "    ## Print Start Time\n",
        "    start = dt.datetime.now(tz=get_localzone())\n",
        "    fmt= \"%m/%d/%y - %T %p\"\n",
        "\n",
        "    print('---'*20)    \n",
        "    print(f'[i] MODEL CREATED AT {start.strftime(fmt)}')\n",
        "    print('---'*20)\n",
        "    print()\n",
        "    \n",
        "    ## Use new functions to make model and plot history\n",
        "    model = build_fn()\n",
        "    history = model.fit(X_train,y_train, epochs=epochs,**fit_kws,\n",
        "                          validation_data=(X_val,y_val))\n",
        "    \n",
        "    ## Print Total Time\n",
        "    end = dt.datetime.now(tz=get_localzone())\n",
        "    print(f'\\n[!] Training Completed AT {end.strftime(fmt)}')\n",
        "    # print()\n",
        "    print(f\"\\n[i] Total Training Time: {end-start}\")\n",
        "\n",
        "    if evaluate:\n",
        "        evaluate_model(model,history,X_test,y_test,binary=binary)\n",
        "\n",
        "    return model,history\n",
        "    \n",
        "\n",
        "## Making a function for just evaluting not fitting\n",
        "def evaluate_model(model,history,X_test,y_test,binary=True):\n",
        "\n",
        "    ## Get Model history and plot\n",
        "    # history = model.history\n",
        "    plot_history(history)\n",
        "    \n",
        "    ## Get predictions\n",
        "    y_hat_test = model.predict(X_test)\n",
        "\n",
        "    if binary:\n",
        "        y_hat_test = y_hat_test.round()\n",
        "    else:\n",
        "        y_hat_test = y_hat_test.argmax(axis=1)\n",
        "\n",
        "\n",
        "    ## Print classification report\n",
        "    print('---'*20)  \n",
        "    print('---'*20)  \n",
        "    print('[i] Classification Report')\n",
        "    print(metrics.classification_report(y_test,y_hat_test))\n",
        "    print('---'*20)  \n",
        "\n",
        "\n",
        "    ## Get and PLot the confusion matrix\n",
        "    cm = metrics.confusion_matrix(y_test, y_hat_test,\n",
        "                                normalize='true')\n",
        "\n",
        "    ax = sns.heatmap(cm, cmap='Blues',annot=True,square=True)\n",
        "    ax.set(xlabel='Predicted Class',ylabel='True Class')"
      ],
      "execution_count": 28,
      "outputs": []
    },
    {
      "cell_type": "markdown",
      "metadata": {
        "id": "s3_BRyfOQ8fR"
      },
      "source": [
        "## Model 1"
      ]
    },
    {
      "cell_type": "code",
      "metadata": {
        "id": "b07M7sqG1r7I",
        "outputId": "ace82d27-f616-402c-b328-4c72ab88bd7a",
        "colab": {
          "base_uri": "https://localhost:8080/"
        }
      },
      "source": [
        "(*IMG_SIZE,3)"
      ],
      "execution_count": 29,
      "outputs": [
        {
          "output_type": "execute_result",
          "data": {
            "text/plain": [
              "(256, 256, 3)"
            ]
          },
          "metadata": {
            "tags": []
          },
          "execution_count": 29
        }
      ]
    },
    {
      "cell_type": "code",
      "metadata": {
        "ExecuteTime": {
          "end_time": "2020-02-13T16:28:18.120169Z",
          "start_time": "2020-02-13T16:28:17.985574Z"
        },
        "id": "5ZbaFM3xlbSa"
      },
      "source": [
        "# Part 1 - Building the CNN\n",
        "def make_cnn1():\n",
        "    # Initialising the CNN\n",
        "    classifier = Sequential()\n",
        "\n",
        "    # Step 1 - Convolution\n",
        "    classifier.add(Conv2D(64, (3, 3),\n",
        "                                input_shape = ((*IMG_SIZE,3)),\n",
        "                                activation = 'relu'))\n",
        "\n",
        "    classifier.add(Conv2D(64, (3, 3),\n",
        "                        input_shape = ((*IMG_SIZE,3)),\n",
        "                        activation = 'relu'))\n",
        "    # Step 2 - Pooling\n",
        "    classifier.add(MaxPooling2D(pool_size = (2, 2)))\n",
        "\n",
        "    # Adding a second convolutional layer\n",
        "    classifier.add(Conv2D(32, (3, 3),\n",
        "                        activation = 'relu'))\n",
        "    classifier.add(MaxPooling2D(pool_size = (2, 2)))\n",
        "\n",
        "    # Step 3 - Flattening\n",
        "    classifier.add(Flatten())\n",
        "\n",
        "    # Step 4 - Full connection\n",
        "    classifier.add(Dense(units = 64, activation = 'relu'))\n",
        "\n",
        "    classifier.add(Dense(units = 1, activation = 'sigmoid'))\n",
        "\n",
        "    # Compiling the CNN\n",
        "    classifier.compile(optimizer = 'adam', \n",
        "                    loss = 'binary_crossentropy',\n",
        "                    metrics = ['accuracy'])\n",
        "    print()\n",
        "    display(classifier.summary())\n",
        "    return classifier\n"
      ],
      "execution_count": 30,
      "outputs": []
    },
    {
      "cell_type": "code",
      "metadata": {
        "id": "z9q0LbSzo6p2",
        "outputId": "08369b3e-f181-40bc-94b2-f28a71752afb",
        "colab": {
          "base_uri": "https://localhost:8080/",
          "height": 1000
        }
      },
      "source": [
        "\n",
        "\n",
        "# # Part 2 - Fitting the CNN to the images\n",
        "cnn1,hist = make_fit_plot_model(make_cnn1,X_train,y_train,X_val,y_val)"
      ],
      "execution_count": 31,
      "outputs": [
        {
          "output_type": "stream",
          "text": [
            "------------------------------------------------------------\n",
            "[i] MODEL CREATED AT 10/30/20 - 15:25:00 PM\n",
            "------------------------------------------------------------\n",
            "\n",
            "\n",
            "Model: \"sequential\"\n",
            "_________________________________________________________________\n",
            "Layer (type)                 Output Shape              Param #   \n",
            "=================================================================\n",
            "conv2d (Conv2D)              (None, 254, 254, 64)      1792      \n",
            "_________________________________________________________________\n",
            "conv2d_1 (Conv2D)            (None, 252, 252, 64)      36928     \n",
            "_________________________________________________________________\n",
            "max_pooling2d (MaxPooling2D) (None, 126, 126, 64)      0         \n",
            "_________________________________________________________________\n",
            "conv2d_2 (Conv2D)            (None, 124, 124, 32)      18464     \n",
            "_________________________________________________________________\n",
            "max_pooling2d_1 (MaxPooling2 (None, 62, 62, 32)        0         \n",
            "_________________________________________________________________\n",
            "flatten (Flatten)            (None, 123008)            0         \n",
            "_________________________________________________________________\n",
            "dense (Dense)                (None, 64)                7872576   \n",
            "_________________________________________________________________\n",
            "dense_1 (Dense)              (None, 1)                 65        \n",
            "=================================================================\n",
            "Total params: 7,929,825\n",
            "Trainable params: 7,929,825\n",
            "Non-trainable params: 0\n",
            "_________________________________________________________________\n"
          ],
          "name": "stdout"
        },
        {
          "output_type": "display_data",
          "data": {
            "text/plain": [
              "None"
            ]
          },
          "metadata": {
            "tags": []
          }
        },
        {
          "output_type": "stream",
          "text": [
            "Epoch 1/3\n",
            "  2/250 [..............................] - ETA: 7s - loss: 1.3553 - accuracy: 0.5000WARNING:tensorflow:Callbacks method `on_train_batch_end` is slow compared to the batch time (batch time: 0.0143s vs `on_train_batch_end` time: 0.0453s). Check your callbacks.\n",
            "250/250 [==============================] - 14s 58ms/step - loss: 0.7140 - accuracy: 0.5419 - val_loss: 0.6775 - val_accuracy: 0.5525\n",
            "Epoch 2/3\n",
            "250/250 [==============================] - 14s 57ms/step - loss: 0.6447 - accuracy: 0.6369 - val_loss: 0.6418 - val_accuracy: 0.6425\n",
            "Epoch 3/3\n",
            "250/250 [==============================] - 14s 57ms/step - loss: 0.5250 - accuracy: 0.7361 - val_loss: 0.6370 - val_accuracy: 0.6400\n",
            "\n",
            "[!] Training Completed AT 10/30/20 - 15:25:57 PM\n",
            "\n",
            "[i] Total Training Time: 0:00:57.010393\n"
          ],
          "name": "stdout"
        },
        {
          "output_type": "display_data",
          "data": {
            "image/png": "[encoded data removed]",
            "text/plain": [
              "<Figure size 432x288 with 1 Axes>"
            ]
          },
          "metadata": {
            "tags": [],
            "needs_background": "light"
          }
        },
        {
          "output_type": "display_data",
          "data": {
            "image/png": "[encoded data removed]",
            "text/plain": [
              "<Figure size 432x288 with 1 Axes>"
            ]
          },
          "metadata": {
            "tags": [],
            "needs_background": "light"
          }
        },
        {
          "output_type": "stream",
          "text": [
            "------------------------------------------------------------\n",
            "------------------------------------------------------------\n",
            "[i] Classification Report\n",
            "              precision    recall  f1-score   support\n",
            "\n",
            "         0.0       0.64      0.61      0.63       800\n",
            "         1.0       0.63      0.66      0.64       800\n",
            "\n",
            "    accuracy                           0.64      1600\n",
            "   macro avg       0.64      0.64      0.64      1600\n",
            "weighted avg       0.64      0.64      0.64      1600\n",
            "\n",
            "------------------------------------------------------------\n"
          ],
          "name": "stdout"
        },
        {
          "output_type": "display_data",
          "data": {
            "image/png": "[encoded data removed]",
            "text/plain": [
              "<Figure size 432x288 with 2 Axes>"
            ]
          },
          "metadata": {
            "tags": [],
            "needs_background": "light"
          }
        }
      ]
    },
    {
      "cell_type": "markdown",
      "metadata": {
        "id": "2r14qGFIVrfO"
      },
      "source": [
        "# Keras Callbacks\n",
        "\n"
      ]
    },
    {
      "cell_type": "markdown",
      "metadata": {
        "id": "JtTKy31agUb6"
      },
      "source": [
        "- [Official Callback documentation](https://keras.io/callbacks/)\n",
        "- CallBacks You'll Definitely Want to Use\n",
        " - `keras.callbacks.ModelCheckpoint`\n",
        " - `keras.callbacks.EarlyStopping`\n",
        "\n",
        "- Callbacks worth further exploration\n",
        " - `keras.callbacks.callbacks.LearningRateScheduler`\n",
        " - `keras.callbacks`"
      ]
    },
    {
      "cell_type": "code",
      "metadata": {
        "id": "xeaRqzEh9ntA",
        "outputId": "4f229c63-531f-4be1-a271-dbc391191496",
        "colab": {
          "base_uri": "https://localhost:8080/"
        }
      },
      "source": [
        "print_dir_contents('/gdrive/My Drive/Modeling')"
      ],
      "execution_count": 32,
      "outputs": [
        {
          "output_type": "stream",
          "text": [
            "CONTENTS OF FOLDER: '/gdrive/My Drive/Modeling':\n",
            "\tcats_vs_dogs\n"
          ],
          "name": "stdout"
        }
      ]
    },
    {
      "cell_type": "markdown",
      "metadata": {
        "id": "-EDI9EcwGUKl"
      },
      "source": [
        "### Adding callbacks"
      ]
    },
    {
      "cell_type": "code",
      "metadata": {
        "id": "TKzrIvPVOTys",
        "outputId": "bc03fc9b-7adf-47a3-c424-a776030f82c2",
        "colab": {
          "base_uri": "https://localhost:8080/"
        }
      },
      "source": [
        "MODEL_FPATH = r'/gdrive/My Drive/Modeling/cats_vs_dogs/'\n",
        "os.makedirs(MODEL_FPATH,exist_ok=True)\n",
        "print_dir_contents(MODEL_FPATH)"
      ],
      "execution_count": 33,
      "outputs": [
        {
          "output_type": "stream",
          "text": [
            "CONTENTS OF FOLDER: '/gdrive/My Drive/Modeling/cats_vs_dogs/':\n",
            "\tCNN1_model.json\n",
            "\tCNN1_weights.h5\n",
            "\texample.hdf5\n",
            "\texample_cnn.hdf\n",
            "\tmodel.json\n",
            "\tweights-improvement-01-0.50.hdf5\n",
            "\tweights-improvement-01-0.51.hdf5\n",
            "\tweights-improvement-01-0.65.hdf5\n",
            "\tweights-improvement-01-0.66.hdf5\n",
            "\tweights-improvement-01-0.68.hdf5\n",
            "\tweights-improvement-01-0.69.hdf5\n",
            "\tweights-improvement-01-0.70.hdf5\n",
            "\tweights-improvement-02-0.59.hdf5\n",
            "\tweights-improvement-02-0.62.hdf5\n",
            "\tweights-improvement-02-0.63.hdf5\n",
            "\tweights-improvement-02-0.64.hdf5\n",
            "\tweights-improvement-02-0.67.hdf5\n",
            "\tweights-improvement-02-0.68.hdf5\n",
            "\tweights-improvement-02-0.69.hdf5\n",
            "\tweights-improvement-03-0.59.hdf5\n",
            "\tweights-improvement-03-0.60.hdf5\n",
            "\tweights-improvement-03-0.61.hdf5\n",
            "\tweights-improvement-03-0.62.hdf5\n",
            "\tweights-improvement-03-0.63.hdf5\n",
            "\tweights-improvement-03-0.64.hdf5\n",
            "\tweights-improvement-03-0.66.hdf5\n",
            "\tweights-improvement-03-0.67.hdf5\n",
            "\tweights-improvement-03-0.69.hdf5\n",
            "\tweights-improvement-03-0.71.hdf5\n",
            "\tweights-improvement-04-0.57.hdf5\n",
            "\tweights-improvement-04-0.58.hdf5\n",
            "\tweights-improvement-04-0.60.hdf5\n",
            "\tweights-improvement-04-0.62.hdf5\n",
            "\tweights-improvement-04-0.63.hdf5\n",
            "\tweights-improvement-04-0.69.hdf5\n",
            "\tweights-improvement-05-0.51.hdf5\n",
            "\tweights-improvement-05-0.55.hdf5\n",
            "\tweights-improvement-05-0.57.hdf5\n",
            "\tweights-improvement-05-0.59.hdf5\n",
            "\tweights-improvement-06-0.46.hdf5\n",
            "\tweights-improvement-06-0.51.hdf5\n",
            "\tweights-improvement-06-0.52.hdf5\n",
            "\tweights-improvement-06-0.56.hdf5\n",
            "\tweights-improvement-07-0.44.hdf5\n",
            "\tweights-improvement-07-0.50.hdf5\n",
            "\tweights-improvement-07-0.51.hdf5\n",
            "\tweights-improvement-07-0.53.hdf5\n",
            "\tweights-improvement-08-0.49.hdf5\n",
            "\tweights-improvement-09-0.46.hdf5\n"
          ],
          "name": "stdout"
        }
      ]
    },
    {
      "cell_type": "code",
      "metadata": {
        "id": "Fr9qe6-VGWQU",
        "outputId": "31276ace-cb5a-4d55-93b8-ffe64eb2359f",
        "colab": {
          "base_uri": "https://localhost:8080/"
        }
      },
      "source": [
        "# checkpoint\n",
        "from tensorflow.keras.callbacks import ModelCheckpoint, EarlyStopping, CSVLogger\n",
        "\n",
        "def create_checkpoint(monitor='val_accuracy',model_subfolder=MODEL_FPATH):\n",
        "    \"\"\"Creates a ModelCheckpoint callback\n",
        "   filepath =  model_subfolder+ \"weights-improvement-{epoch:02d}-{\" + monitor + \":.2f}.hdf5\"\n",
        "    \"\"\"\n",
        "    filepath=model_subfolder+\"weights-improvement-{epoch:02d}-{\"+monitor+\":.2f}.hdf5\"\n",
        "\n",
        "    checkpoint = ModelCheckpoint(filepath, monitor=monitor, verbose=1,\n",
        "                                 save_best_only=True, mode='auto')\n",
        "    return checkpoint\n",
        "\n",
        "\n",
        "def create_early_stopping(monitor = 'val_accuracy',min_delta = 0.01, patience = 3,\n",
        "                          verbose = 1, restore_best_weights = True):\n",
        "    \"\"\"Creates an EarlyStopping callback\"\"\"\n",
        "    args = locals()\n",
        "    return EarlyStopping(**args)\n",
        "\n",
        "def create_csvlogger(filename):\n",
        "    return CSVLogger(filename, separator=',', append=False)\n",
        "\n",
        "\n",
        "def get_callbacks(checkpoints=True, early_stopping=True, modeling_folder=MODEL_FPATH,\n",
        "                  monitor_checkpoint='val_loss',monitor_stopping='val_loss',\n",
        "                  min_delta = 0.01, patience = 3, verbose = 1, restore_best_weights = True):\n",
        "    \"\"\"Returns a list of callbacks containing ModelCheckpoint (if checkpoints==True),\n",
        "    EarlyStopping (if early_stopping==True)\"\"\"\n",
        "    callbacks = []\n",
        "    if checkpoints:\n",
        "        callbacks.append( create_checkpoint(monitor=monitor_checkpoint,\n",
        "                                            model_subfolder=modeling_folder))\n",
        "    \n",
        "    if early_stopping:\n",
        "        callbacks.append( create_early_stopping(monitor=monitor_stopping, min_delta=min_delta,\n",
        "                                                patience=patience,verbose=verbose,\n",
        "                                                restore_best_weights=restore_best_weights))\n",
        "    return callbacks\n",
        "\n",
        "get_callbacks()"
      ],
      "execution_count": 34,
      "outputs": [
        {
          "output_type": "execute_result",
          "data": {
            "text/plain": [
              "[<tensorflow.python.keras.callbacks.ModelCheckpoint at 0x7f3a9a04eba8>,\n",
              " <tensorflow.python.keras.callbacks.EarlyStopping at 0x7f3a9a04e470>]"
            ]
          },
          "metadata": {
            "tags": []
          },
          "execution_count": 34
        }
      ]
    },
    {
      "cell_type": "markdown",
      "metadata": {
        "id": "392eHJbeFPNl"
      },
      "source": [
        "## Model 1 + Callbacks\n",
        "\n"
      ]
    },
    {
      "cell_type": "code",
      "metadata": {
        "id": "XoL5daY7WSnJ",
        "outputId": "9e2b60eb-4ee0-413c-a16e-9864478dde5a",
        "colab": {
          "base_uri": "https://localhost:8080/"
        }
      },
      "source": [
        "\n",
        "callbacks_list = get_callbacks(monitor_checkpoint='val_loss',\n",
        "                               monitor_stopping='val_loss')\n",
        "callbacks_list \n"
      ],
      "execution_count": 35,
      "outputs": [
        {
          "output_type": "execute_result",
          "data": {
            "text/plain": [
              "[<tensorflow.python.keras.callbacks.ModelCheckpoint at 0x7f3a9a0574e0>,\n",
              " <tensorflow.python.keras.callbacks.EarlyStopping at 0x7f3a9a0575c0>]"
            ]
          },
          "metadata": {
            "tags": []
          },
          "execution_count": 35
        }
      ]
    },
    {
      "cell_type": "code",
      "metadata": {
        "id": "BP9N-YmC8FQS",
        "outputId": "09b38e37-1d2e-4f5d-f045-91f1eafb3402",
        "colab": {
          "base_uri": "https://localhost:8080/",
          "height": 1000
        }
      },
      "source": [
        "cnn1,hist = make_fit_plot_model(make_cnn1,X_train,y_train,\n",
        "                                X_test,y_test,epochs=20,\n",
        "                                fit_kws=dict(callbacks=get_callbacks()))"
      ],
      "execution_count": 36,
      "outputs": [
        {
          "output_type": "stream",
          "text": [
            "------------------------------------------------------------\n",
            "[i] MODEL CREATED AT 10/30/20 - 15:26:00 PM\n",
            "------------------------------------------------------------\n",
            "\n",
            "\n",
            "Model: \"sequential_1\"\n",
            "_________________________________________________________________\n",
            "Layer (type)                 Output Shape              Param #   \n",
            "=================================================================\n",
            "conv2d_3 (Conv2D)            (None, 254, 254, 64)      1792      \n",
            "_________________________________________________________________\n",
            "conv2d_4 (Conv2D)            (None, 252, 252, 64)      36928     \n",
            "_________________________________________________________________\n",
            "max_pooling2d_2 (MaxPooling2 (None, 126, 126, 64)      0         \n",
            "_________________________________________________________________\n",
            "conv2d_5 (Conv2D)            (None, 124, 124, 32)      18464     \n",
            "_________________________________________________________________\n",
            "max_pooling2d_3 (MaxPooling2 (None, 62, 62, 32)        0         \n",
            "_________________________________________________________________\n",
            "flatten_1 (Flatten)          (None, 123008)            0         \n",
            "_________________________________________________________________\n",
            "dense_2 (Dense)              (None, 64)                7872576   \n",
            "_________________________________________________________________\n",
            "dense_3 (Dense)              (None, 1)                 65        \n",
            "=================================================================\n",
            "Total params: 7,929,825\n",
            "Trainable params: 7,929,825\n",
            "Non-trainable params: 0\n",
            "_________________________________________________________________\n"
          ],
          "name": "stdout"
        },
        {
          "output_type": "display_data",
          "data": {
            "text/plain": [
              "None"
            ]
          },
          "metadata": {
            "tags": []
          }
        },
        {
          "output_type": "stream",
          "text": [
            "Epoch 1/20\n",
            "  2/250 [..............................] - ETA: 6s - loss: 2.1074 - accuracy: 0.5000WARNING:tensorflow:Callbacks method `on_train_batch_end` is slow compared to the batch time (batch time: 0.0103s vs `on_train_batch_end` time: 0.0452s). Check your callbacks.\n",
            "250/250 [==============================] - ETA: 0s - loss: 0.7140 - accuracy: 0.5123\n",
            "Epoch 00001: val_loss improved from inf to 0.69307, saving model to /gdrive/My Drive/Modeling/cats_vs_dogs/weights-improvement-01-0.69.hdf5\n",
            "250/250 [==============================] - 16s 65ms/step - loss: 0.7140 - accuracy: 0.5123 - val_loss: 0.6931 - val_accuracy: 0.4988\n",
            "Epoch 2/20\n",
            "250/250 [==============================] - ETA: 0s - loss: 0.6977 - accuracy: 0.5197\n",
            "Epoch 00002: val_loss improved from 0.69307 to 0.69295, saving model to /gdrive/My Drive/Modeling/cats_vs_dogs/weights-improvement-02-0.69.hdf5\n",
            "250/250 [==============================] - 16s 64ms/step - loss: 0.6977 - accuracy: 0.5197 - val_loss: 0.6929 - val_accuracy: 0.4994\n",
            "Epoch 3/20\n",
            "250/250 [==============================] - ETA: 0s - loss: 0.6933 - accuracy: 0.5185\n",
            "Epoch 00003: val_loss improved from 0.69295 to 0.68549, saving model to /gdrive/My Drive/Modeling/cats_vs_dogs/weights-improvement-03-0.69.hdf5\n",
            "250/250 [==============================] - 16s 65ms/step - loss: 0.6933 - accuracy: 0.5185 - val_loss: 0.6855 - val_accuracy: 0.5500\n",
            "Epoch 4/20\n",
            "250/250 [==============================] - ETA: 0s - loss: 0.6712 - accuracy: 0.5944\n",
            "Epoch 00004: val_loss improved from 0.68549 to 0.68230, saving model to /gdrive/My Drive/Modeling/cats_vs_dogs/weights-improvement-04-0.68.hdf5\n",
            "250/250 [==============================] - 15s 62ms/step - loss: 0.6712 - accuracy: 0.5944 - val_loss: 0.6823 - val_accuracy: 0.5681\n",
            "Epoch 5/20\n",
            "250/250 [==============================] - ETA: 0s - loss: 0.6173 - accuracy: 0.6640\n",
            "Epoch 00005: val_loss did not improve from 0.68230\n",
            "250/250 [==============================] - 15s 60ms/step - loss: 0.6173 - accuracy: 0.6640 - val_loss: 0.7182 - val_accuracy: 0.5881\n",
            "Epoch 6/20\n",
            "250/250 [==============================] - ETA: 0s - loss: 0.5149 - accuracy: 0.7442\n",
            "Epoch 00006: val_loss did not improve from 0.68230\n",
            "250/250 [==============================] - 15s 60ms/step - loss: 0.5149 - accuracy: 0.7442 - val_loss: 0.8647 - val_accuracy: 0.5819\n",
            "Epoch 7/20\n",
            "250/250 [==============================] - ETA: 0s - loss: 0.2941 - accuracy: 0.8715\n",
            "Epoch 00007: val_loss did not improve from 0.68230\n",
            "Restoring model weights from the end of the best epoch.\n",
            "250/250 [==============================] - 15s 60ms/step - loss: 0.2941 - accuracy: 0.8715 - val_loss: 1.1727 - val_accuracy: 0.5688\n",
            "Epoch 00007: early stopping\n",
            "\n",
            "[!] Training Completed AT 10/30/20 - 15:27:49 PM\n",
            "\n",
            "[i] Total Training Time: 0:01:49.779123\n"
          ],
          "name": "stdout"
        },
        {
          "output_type": "display_data",
          "data": {
            "image/png": "[encoded data removed]",
            "text/plain": [
              "<Figure size 432x288 with 1 Axes>"
            ]
          },
          "metadata": {
            "tags": [],
            "needs_background": "light"
          }
        },
        {
          "output_type": "display_data",
          "data": {
            "image/png": "[encoded data removed]",
            "text/plain": [
              "<Figure size 432x288 with 1 Axes>"
            ]
          },
          "metadata": {
            "tags": [],
            "needs_background": "light"
          }
        },
        {
          "output_type": "stream",
          "text": [
            "------------------------------------------------------------\n",
            "------------------------------------------------------------\n",
            "[i] Classification Report\n",
            "              precision    recall  f1-score   support\n",
            "\n",
            "         0.0       0.55      0.76      0.64       800\n",
            "         1.0       0.61      0.38      0.47       800\n",
            "\n",
            "    accuracy                           0.57      1600\n",
            "   macro avg       0.58      0.57      0.55      1600\n",
            "weighted avg       0.58      0.57      0.55      1600\n",
            "\n",
            "------------------------------------------------------------\n"
          ],
          "name": "stdout"
        },
        {
          "output_type": "display_data",
          "data": {
            "image/png": "[encoded data removed]",
            "text/plain": [
              "<Figure size 432x288 with 2 Axes>"
            ]
          },
          "metadata": {
            "tags": [],
            "needs_background": "light"
          }
        }
      ]
    },
    {
      "cell_type": "markdown",
      "metadata": {
        "id": "cQRgUjYrURGU"
      },
      "source": [
        "## Model 3: Adding CNN from Student Capstone\n",
        "- [Devin Belden](https://colab.research.google.com/drive/1YvckYAeV2Qtwk5vz0zlmHX7wO3d-uS7o?usp=sharing)"
      ]
    },
    {
      "cell_type": "code",
      "metadata": {
        "id": "pM5yqXtiUYJp",
        "outputId": "c0e00fb7-b0e8-4c53-fb12-1e144abcba48",
        "colab": {
          "base_uri": "https://localhost:8080/",
          "height": 1000
        }
      },
      "source": [
        "def make_cnn_devin():\n",
        "    model = models.Sequential()\n",
        "    model.add(layers.Conv2D(32, (3, 3), activation='relu',\n",
        "                            input_shape=(*IMG_SIZE,3)))\n",
        "    model.add(layers.MaxPooling2D((2, 2)))\n",
        "    model.add(layers.Dropout(0.3))\n",
        "\n",
        "    model.add(layers.Conv2D(64, (5, 5), activation='relu'))\n",
        "    model.add(layers.MaxPooling2D((2, 2)))\n",
        "    model.add(layers.Dropout(0.3))\n",
        "\n",
        "    model.add(layers.Conv2D(128, (3, 3), activation='relu'))\n",
        "    model.add(layers.MaxPooling2D((2, 2)))\n",
        "    model.add(layers.Dropout(0.3))\n",
        "\n",
        "    # model.add(layers.Conv2D(256, (3, 3), activation='relu'))\n",
        "    # model.add(layers.MaxPooling2D((2, 2)))\n",
        "    # model.add(layers.Dropout(0.3))\n",
        "\n",
        "    model.add(layers.Flatten())\n",
        "    model.add(layers.Dense(64, activation='relu'))\n",
        "    \n",
        "    # JMI\n",
        "    model.add(layers.Dropout(0.2))\n",
        "    model.add(layers.Dense(128, activation='relu'))\n",
        "    # model.add(layers.Dense(256, activation='relu'))\n",
        "    # model.add(layers.Dense(512, activation='relu'))\n",
        "    model.add(layers.Dense(1, activation='sigmoid'))\n",
        "    \n",
        "    model.compile(loss='binary_crossentropy',\n",
        "                optimizer=\"adam\",\n",
        "                metrics=['acc'])\n",
        "    display(model.summary())\n",
        "    return model\n",
        "\n",
        "\n",
        "cnn2,hist2 = make_fit_plot_model(make_cnn_devin,X_train,y_train,X_val,y_val,\n",
        "                                epochs=30,fit_kws=dict(\n",
        "                                    callbacks=get_callbacks()\n",
        "                                ))"
      ],
      "execution_count": 37,
      "outputs": [
        {
          "output_type": "stream",
          "text": [
            "------------------------------------------------------------\n",
            "[i] MODEL CREATED AT 10/30/20 - 15:27:51 PM\n",
            "------------------------------------------------------------\n",
            "\n",
            "Model: \"sequential_2\"\n",
            "_________________________________________________________________\n",
            "Layer (type)                 Output Shape              Param #   \n",
            "=================================================================\n",
            "conv2d_6 (Conv2D)            (None, 254, 254, 32)      896       \n",
            "_________________________________________________________________\n",
            "max_pooling2d_4 (MaxPooling2 (None, 127, 127, 32)      0         \n",
            "_________________________________________________________________\n",
            "dropout (Dropout)            (None, 127, 127, 32)      0         \n",
            "_________________________________________________________________\n",
            "conv2d_7 (Conv2D)            (None, 123, 123, 64)      51264     \n",
            "_________________________________________________________________\n",
            "max_pooling2d_5 (MaxPooling2 (None, 61, 61, 64)        0         \n",
            "_________________________________________________________________\n",
            "dropout_1 (Dropout)          (None, 61, 61, 64)        0         \n",
            "_________________________________________________________________\n",
            "conv2d_8 (Conv2D)            (None, 59, 59, 128)       73856     \n",
            "_________________________________________________________________\n",
            "max_pooling2d_6 (MaxPooling2 (None, 29, 29, 128)       0         \n",
            "_________________________________________________________________\n",
            "dropout_2 (Dropout)          (None, 29, 29, 128)       0         \n",
            "_________________________________________________________________\n",
            "flatten_2 (Flatten)          (None, 107648)            0         \n",
            "_________________________________________________________________\n",
            "dense_4 (Dense)              (None, 64)                6889536   \n",
            "_________________________________________________________________\n",
            "dropout_3 (Dropout)          (None, 64)                0         \n",
            "_________________________________________________________________\n",
            "dense_5 (Dense)              (None, 128)               8320      \n",
            "_________________________________________________________________\n",
            "dense_6 (Dense)              (None, 1)                 129       \n",
            "=================================================================\n",
            "Total params: 7,024,001\n",
            "Trainable params: 7,024,001\n",
            "Non-trainable params: 0\n",
            "_________________________________________________________________\n"
          ],
          "name": "stdout"
        },
        {
          "output_type": "display_data",
          "data": {
            "text/plain": [
              "None"
            ]
          },
          "metadata": {
            "tags": []
          }
        },
        {
          "output_type": "stream",
          "text": [
            "Epoch 1/30\n",
            "249/250 [============================>.] - ETA: 0s - loss: 0.7049 - acc: 0.5148\n",
            "Epoch 00001: val_loss improved from inf to 0.69314, saving model to /gdrive/My Drive/Modeling/cats_vs_dogs/weights-improvement-01-0.69.hdf5\n",
            "250/250 [==============================] - 9s 35ms/step - loss: 0.7048 - acc: 0.5149 - val_loss: 0.6931 - val_acc: 0.5025\n",
            "Epoch 2/30\n",
            "249/250 [============================>.] - ETA: 0s - loss: 0.6933 - acc: 0.4935\n",
            "Epoch 00002: val_loss did not improve from 0.69314\n",
            "250/250 [==============================] - 8s 30ms/step - loss: 0.6933 - acc: 0.4929 - val_loss: 0.6932 - val_acc: 0.5000\n",
            "Epoch 3/30\n",
            "249/250 [============================>.] - ETA: 0s - loss: 0.6933 - acc: 0.4927\n",
            "Epoch 00003: val_loss did not improve from 0.69314\n",
            "250/250 [==============================] - 8s 31ms/step - loss: 0.6933 - acc: 0.4931 - val_loss: 0.6932 - val_acc: 0.5000\n",
            "Epoch 4/30\n",
            "249/250 [============================>.] - ETA: 0s - loss: 0.6938 - acc: 0.5026\n",
            "Epoch 00004: val_loss did not improve from 0.69314\n",
            "Restoring model weights from the end of the best epoch.\n",
            "250/250 [==============================] - 8s 31ms/step - loss: 0.6938 - acc: 0.5027 - val_loss: 0.6932 - val_acc: 0.5000\n",
            "Epoch 00004: early stopping\n",
            "\n",
            "[!] Training Completed AT 10/30/20 - 15:28:24 PM\n",
            "\n",
            "[i] Total Training Time: 0:00:32.799732\n"
          ],
          "name": "stdout"
        },
        {
          "output_type": "display_data",
          "data": {
            "image/png": "[encoded data removed]",
            "text/plain": [
              "<Figure size 432x288 with 1 Axes>"
            ]
          },
          "metadata": {
            "tags": [],
            "needs_background": "light"
          }
        },
        {
          "output_type": "display_data",
          "data": {
            "image/png": "[encoded data removed]",
            "text/plain": [
              "<Figure size 432x288 with 1 Axes>"
            ]
          },
          "metadata": {
            "tags": [],
            "needs_background": "light"
          }
        },
        {
          "output_type": "stream",
          "text": [
            "------------------------------------------------------------\n",
            "------------------------------------------------------------\n",
            "[i] Classification Report\n",
            "              precision    recall  f1-score   support\n",
            "\n",
            "         0.0       0.00      0.00      0.00       800\n",
            "         1.0       0.50      1.00      0.67       800\n",
            "\n",
            "    accuracy                           0.50      1600\n",
            "   macro avg       0.25      0.50      0.33      1600\n",
            "weighted avg       0.25      0.50      0.33      1600\n",
            "\n",
            "------------------------------------------------------------\n"
          ],
          "name": "stdout"
        },
        {
          "output_type": "stream",
          "text": [
            "/usr/local/lib/python3.6/dist-packages/sklearn/metrics/_classification.py:1272: UndefinedMetricWarning: Precision and F-score are ill-defined and being set to 0.0 in labels with no predicted samples. Use `zero_division` parameter to control this behavior.\n",
            "  _warn_prf(average, modifier, msg_start, len(result))\n"
          ],
          "name": "stderr"
        },
        {
          "output_type": "display_data",
          "data": {
            "image/png": "[encoded data removed]",
            "text/plain": [
              "<Figure size 432x288 with 2 Axes>"
            ]
          },
          "metadata": {
            "tags": [],
            "needs_background": "light"
          }
        }
      ]
    },
    {
      "cell_type": "markdown",
      "metadata": {
        "id": "x9JNoGslqyRB"
      },
      "source": [
        "# BOOKMARK - SAVING AND LOADING MODELS"
      ]
    },
    {
      "cell_type": "code",
      "metadata": {
        "id": "J7fufGQEpPYl"
      },
      "source": [
        "# MODEL_FPATH+'best_cnn.hdf5'"
      ],
      "execution_count": 38,
      "outputs": []
    },
    {
      "cell_type": "code",
      "metadata": {
        "id": "Ic-uNBmsopQH"
      },
      "source": [
        "# ## SAVING THE FULL MODEL\n",
        "# cnn_dev[0].save(MODEL_FPATH+'example.hdf5')"
      ],
      "execution_count": 39,
      "outputs": []
    },
    {
      "cell_type": "code",
      "metadata": {
        "id": "5rs9WVy0pUuy"
      },
      "source": [
        "# from tensorflow.keras.models import load_model\n",
        "\n",
        "# model = load_model(MODEL_FPATH+'example.hdf5')\n",
        "# model.summary()"
      ],
      "execution_count": 40,
      "outputs": []
    },
    {
      "cell_type": "code",
      "metadata": {
        "id": "xWk5M-wVJ5Op"
      },
      "source": [
        "# from tensorflow.keras.models import load_model\n",
        "# cnn_loaded = load_model(MODEL_FPATH+'example_cnn.hdf')\n",
        "# cnn_loaded.predict(X_test)\n",
        "# history = cnn_loaded.fit(X_train,y_train,epochs=2,\n",
        "#                            validation_data=(X_val,y_val))"
      ],
      "execution_count": 41,
      "outputs": []
    },
    {
      "cell_type": "code",
      "metadata": {
        "id": "20sfhtKK-1v1"
      },
      "source": [
        "# ## Saving the Model Weights\n",
        "# model_name = 'CNN1'\n",
        "# weights_fname = MODEL_FPATH + f\"{model_name}_weights.h5\"\n",
        "# cnn1.save_weights(weights_fname)"
      ],
      "execution_count": 42,
      "outputs": []
    },
    {
      "cell_type": "code",
      "metadata": {
        "id": "xKj6aXxpBaFc"
      },
      "source": [
        "# from tensorflow.keras.models import model_from_json\n",
        "\n",
        "\n",
        "# # Model reconstruction from JSON file\n",
        "# with open(model_fname, 'r',encoding=\"utf8\") as f:\n",
        "#     model2 = model_from_json(f.read())\n",
        "\n",
        "# # Load weights into the new model\n",
        "# model2.load_weights(weights_fname)\n",
        "# display(model2.summary())\n",
        "# model2.predict(X_test)"
      ],
      "execution_count": 43,
      "outputs": []
    },
    {
      "cell_type": "markdown",
      "metadata": {
        "id": "WMb1_uczEPqA"
      },
      "source": [
        "# LIME"
      ]
    },
    {
      "cell_type": "markdown",
      "metadata": {
        "id": "q9n-JX7ZoHSS"
      },
      "source": [
        "## Lime \n",
        "\n",
        "- https://github.com/expectopatronum/code-snippets-blog/blob/master/python/201808_catdog_classifier_lime/analyse-cat-dog-classifier.ipynb"
      ]
    },
    {
      "cell_type": "code",
      "metadata": {
        "id": "d9TQLN4voJMX",
        "outputId": "22cca726-7e20-481c-922f-584c5315c6fd",
        "colab": {
          "base_uri": "https://localhost:8080/"
        }
      },
      "source": [
        "!pip install lime"
      ],
      "execution_count": 44,
      "outputs": [
        {
          "output_type": "stream",
          "text": [
            "Collecting lime\n",
            "\u001b[?25l  Downloading https://files.pythonhosted.org/packages/f5/86/91a13127d83d793ecb50eb75e716f76e6eda809b6803c5a4ff462339789e/lime-0.2.0.1.tar.gz (275kB)\n",
            "\r\u001b[K     |█▏                              | 10kB 20.3MB/s eta 0:00:01\r\u001b[K     |██▍                             | 20kB 6.8MB/s eta 0:00:01\r\u001b[K     |███▋                            | 30kB 6.5MB/s eta 0:00:01\r\u001b[K     |████▊                           | 40kB 7.1MB/s eta 0:00:01\r\u001b[K     |██████                          | 51kB 6.7MB/s eta 0:00:01\r\u001b[K     |███████▏                        | 61kB 7.3MB/s eta 0:00:01\r\u001b[K     |████████▎                       | 71kB 8.0MB/s eta 0:00:01\r\u001b[K     |█████████▌                      | 81kB 7.7MB/s eta 0:00:01\r\u001b[K     |██████████▊                     | 92kB 7.7MB/s eta 0:00:01\r\u001b[K     |███████████▉                    | 102kB 7.4MB/s eta 0:00:01\r\u001b[K     |█████████████                   | 112kB 7.4MB/s eta 0:00:01\r\u001b[K     |██████████████▎                 | 122kB 7.4MB/s eta 0:00:01\r\u001b[K     |███████████████▌                | 133kB 7.4MB/s eta 0:00:01\r\u001b[K     |████████████████▋               | 143kB 7.4MB/s eta 0:00:01\r\u001b[K     |█████████████████▉              | 153kB 7.4MB/s eta 0:00:01\r\u001b[K     |███████████████████             | 163kB 7.4MB/s eta 0:00:01\r\u001b[K     |████████████████████▏           | 174kB 7.4MB/s eta 0:00:01\r\u001b[K     |█████████████████████▍          | 184kB 7.4MB/s eta 0:00:01\r\u001b[K     |██████████████████████▋         | 194kB 7.4MB/s eta 0:00:01\r\u001b[K     |███████████████████████▊        | 204kB 7.4MB/s eta 0:00:01\r\u001b[K     |█████████████████████████       | 215kB 7.4MB/s eta 0:00:01\r\u001b[K     |██████████████████████████▏     | 225kB 7.4MB/s eta 0:00:01\r\u001b[K     |███████████████████████████▍    | 235kB 7.4MB/s eta 0:00:01\r\u001b[K     |████████████████████████████▌   | 245kB 7.4MB/s eta 0:00:01\r\u001b[K     |█████████████████████████████▊  | 256kB 7.4MB/s eta 0:00:01\r\u001b[K     |███████████████████████████████ | 266kB 7.4MB/s eta 0:00:01\r\u001b[K     |████████████████████████████████| 276kB 7.4MB/s \n",
            "\u001b[?25hRequirement already satisfied: matplotlib in /usr/local/lib/python3.6/dist-packages (from lime) (3.2.2)\n",
            "Requirement already satisfied: numpy in /usr/local/lib/python3.6/dist-packages (from lime) (1.18.5)\n",
            "Requirement already satisfied: scipy in /usr/local/lib/python3.6/dist-packages (from lime) (1.4.1)\n",
            "Requirement already satisfied: tqdm in /usr/local/lib/python3.6/dist-packages (from lime) (4.41.1)\n",
            "Requirement already satisfied: scikit-learn>=0.18 in /usr/local/lib/python3.6/dist-packages (from lime) (0.22.2.post1)\n",
            "Requirement already satisfied: scikit-image>=0.12 in /usr/local/lib/python3.6/dist-packages (from lime) (0.16.2)\n",
            "Requirement already satisfied: cycler>=0.10 in /usr/local/lib/python3.6/dist-packages (from matplotlib->lime) (0.10.0)\n",
            "Requirement already satisfied: python-dateutil>=2.1 in /usr/local/lib/python3.6/dist-packages (from matplotlib->lime) (2.8.1)\n",
            "Requirement already satisfied: pyparsing!=2.0.4,!=2.1.2,!=2.1.6,>=2.0.1 in /usr/local/lib/python3.6/dist-packages (from matplotlib->lime) (2.4.7)\n",
            "Requirement already satisfied: kiwisolver>=1.0.1 in /usr/local/lib/python3.6/dist-packages (from matplotlib->lime) (1.2.0)\n",
            "Requirement already satisfied: joblib>=0.11 in /usr/local/lib/python3.6/dist-packages (from scikit-learn>=0.18->lime) (0.17.0)\n",
            "Requirement already satisfied: PyWavelets>=0.4.0 in /usr/local/lib/python3.6/dist-packages (from scikit-image>=0.12->lime) (1.1.1)\n",
            "Requirement already satisfied: pillow>=4.3.0 in /usr/local/lib/python3.6/dist-packages (from scikit-image>=0.12->lime) (7.0.0)\n",
            "Requirement already satisfied: networkx>=2.0 in /usr/local/lib/python3.6/dist-packages (from scikit-image>=0.12->lime) (2.5)\n",
            "Requirement already satisfied: imageio>=2.3.0 in /usr/local/lib/python3.6/dist-packages (from scikit-image>=0.12->lime) (2.4.1)\n",
            "Requirement already satisfied: six in /usr/local/lib/python3.6/dist-packages (from cycler>=0.10->matplotlib->lime) (1.15.0)\n",
            "Requirement already satisfied: decorator>=4.3.0 in /usr/local/lib/python3.6/dist-packages (from networkx>=2.0->scikit-image>=0.12->lime) (4.4.2)\n",
            "Building wheels for collected packages: lime\n",
            "  Building wheel for lime (setup.py) ... \u001b[?25l\u001b[?25hdone\n",
            "  Created wheel for lime: filename=lime-0.2.0.1-cp36-none-any.whl size=283845 sha256=a7241cd95c1114f40c2aa02bef986d913e8ed47c806f3f6dc17e82286bb5782b\n",
            "  Stored in directory: /root/.cache/pip/wheels/4c/4f/a5/0bc765457bd41378bf3ce8d17d7495369d6e7ca3b712c60c89\n",
            "Successfully built lime\n",
            "Installing collected packages: lime\n",
            "Successfully installed lime-0.2.0.1\n"
          ],
          "name": "stdout"
        }
      ]
    },
    {
      "cell_type": "code",
      "metadata": {
        "id": "qrU__u6nFaxM",
        "outputId": "ead6348d-af74-4613-98a1-9ee8e3a32980",
        "colab": {
          "base_uri": "https://localhost:8080/"
        }
      },
      "source": [
        "class_lookup = {v:k for k,v in training_set.class_indices.items()}\n",
        "class_lookup"
      ],
      "execution_count": 45,
      "outputs": [
        {
          "output_type": "execute_result",
          "data": {
            "text/plain": [
              "{0: 'cats', 1: 'dogs'}"
            ]
          },
          "metadata": {
            "tags": []
          },
          "execution_count": 45
        }
      ]
    },
    {
      "cell_type": "code",
      "metadata": {
        "id": "zGfqKJVhEnEj"
      },
      "source": [
        "import lime\n",
        "from lime import lime_image\n",
        "from lime import lime_base\n",
        "\n",
        "from lime.wrappers.scikit_image import SegmentationAlgorithm\n",
        "from skimage.segmentation import mark_boundaries\n",
        "lime_image.LimeImageExplainer?"
      ],
      "execution_count": 46,
      "outputs": []
    },
    {
      "cell_type": "code",
      "metadata": {
        "id": "aH1BTOSSEZjV",
        "outputId": "0f2ef069-4a59-4c91-f27a-240710b5e8bf",
        "colab": {
          "base_uri": "https://localhost:8080/",
          "height": 307
        }
      },
      "source": [
        "## Grabbing a random training image and label\n",
        "i = np.random.choice(range(len(y_train)))\n",
        "label = y_train[i]\n",
        "img = X_train[i]\n",
        "\n",
        "## Getting model prediction \n",
        "pred = cnn1.predict(np.array([img]))\n",
        "pred_class = int(pred.round())\n",
        "\n",
        "\n",
        "## Printing the true class, predicted class, and show image\n",
        "print(f\"Image {i} = {class_lookup[int(label)]}\")\n",
        "print(f\"- Model Predicted {class_lookup[pred_class]}\")\n",
        "array_to_img(img)"
      ],
      "execution_count": 47,
      "outputs": [
        {
          "output_type": "stream",
          "text": [
            "Image 1375 = cats\n",
            "- Model Predicted cats\n"
          ],
          "name": "stdout"
        },
        {
          "output_type": "execute_result",
          "data": {
            "image/png": "[encoded data removed]",
            "text/plain": [
              "<PIL.Image.Image image mode=RGB size=256x256 at 0x7F38320585C0>"
            ]
          },
          "metadata": {
            "tags": []
          },
          "execution_count": 47
        }
      ]
    },
    {
      "cell_type": "code",
      "metadata": {
        "id": "ojfJpD5yfHod",
        "outputId": "d5e15ec4-c1e8-4500-fc1f-58494746fa34",
        "colab": {
          "base_uri": "https://localhost:8080/",
          "height": 66,
          "referenced_widgets": [
            "57b6248e4e3848629d38d35c6d68e44d",
            "838c213f71d74d589dd081ba8eb48672",
            "20370e9019cb48d6af72456885a5fcda",
            "eafd3c03f465426f92ce9b85fdd24fe8",
            "c319956488074c41b142682cf9adf9cc",
            "5ec2929def8e44bbabea47a6bcaba3fb",
            "28cf2271b38b4688804ee953608973ef",
            "90f7916b6f104cc0967d36129b99ca06"
          ]
        }
      },
      "source": [
        "## Make an explainer\n",
        "explainer = lime_image.LimeImageExplainer()\n",
        "\n",
        "explanation = explainer.explain_instance(img, cnn2.predict, top_labels=2,\n",
        "                                         hide_color=None, num_samples=2000)"
      ],
      "execution_count": 48,
      "outputs": [
        {
          "output_type": "display_data",
          "data": {
            "application/vnd.jupyter.widget-view+json": {
              "model_id": "57b6248e4e3848629d38d35c6d68e44d",
              "version_minor": 0,
              "version_major": 2
            },
            "text/plain": [
              "HBox(children=(FloatProgress(value=0.0, max=2000.0), HTML(value='')))"
            ]
          },
          "metadata": {
            "tags": []
          }
        },
        {
          "output_type": "stream",
          "text": [
            "\n"
          ],
          "name": "stdout"
        }
      ]
    },
    {
      "cell_type": "code",
      "metadata": {
        "id": "knw9UQz5FCHg",
        "outputId": "1a52ddb8-9ff3-49e6-cf54-ddba6f1ef906",
        "colab": {
          "base_uri": "https://localhost:8080/",
          "height": 286
        }
      },
      "source": [
        "temp, mask = explanation.get_image_and_mask(explanation.top_labels[0], \n",
        "                                            positive_only=False,\n",
        "                                            num_features=5)\n",
        "                                            # hide_rest=True)\n",
        "plt.imshow(mark_boundaries(temp / 2 + 0.5, mask))\n"
      ],
      "execution_count": 49,
      "outputs": [
        {
          "output_type": "execute_result",
          "data": {
            "text/plain": [
              "<matplotlib.image.AxesImage at 0x7f38259f2dd8>"
            ]
          },
          "metadata": {
            "tags": []
          },
          "execution_count": 49
        },
        {
          "output_type": "display_data",
          "data": {
            "image/png": "[encoded data removed]",
            "text/plain": [
              "<Figure size 432x288 with 1 Axes>"
            ]
          },
          "metadata": {
            "tags": [],
            "needs_background": "light"
          }
        }
      ]
    },
    {
      "cell_type": "markdown",
      "metadata": {
        "id": "dq1f5AcQBbDy"
      },
      "source": [
        "# OLDER CODE"
      ]
    },
    {
      "cell_type": "markdown",
      "metadata": {
        "id": "VSK89u6iV1H5"
      },
      "source": [
        "### def save_model"
      ]
    },
    {
      "cell_type": "code",
      "metadata": {
        "id": "DvVaGSOu_fDj"
      },
      "source": [
        "# print_dir_contents('/gdrive/My Drive/Modeling/')"
      ],
      "execution_count": 50,
      "outputs": []
    },
    {
      "cell_type": "code",
      "metadata": {
        "id": "Cbkosi8QGibP"
      },
      "source": [
        "# def save_model(model,model_subfolder = r'/gdrive/My Drive/Modeling/cats_vs_dog/',\n",
        "#                base_modelname = 'CNN_cat_dog_02142020', as_json=True,\n",
        "#                return_fpaths=True,verbose=True):\n",
        "#     import os\n",
        "#     ## To save to Gdrive, must first chdir to My Drive (so there's no spaces in fpath)\n",
        "#     curdir = os.path.abspath(os.curdir)\n",
        "\n",
        "#     # gdrive_folder =r'/gdrive/My Drive/'\n",
        "#     # model_subfolder = 'Datasets/Models/cat_vs_dog/'\n",
        "\n",
        "#     try:\n",
        "#         os.chdir(gdrive_folder)\n",
        "#         os.makedirs(model_subfolder,exist_ok=True)\n",
        "#     except Exception as e:\n",
        "#         print(f'ERROR: {e}')\n",
        "\n",
        "#     # os.listdir(model_subfolder)\n",
        "#     # https://jovianlin.io/saving-loading-keras-models/\n",
        "#     try:\n",
        "#         weight_fpath = model_subfolder+base_modelname+'_weights.h5'\n",
        "#         model.save_weights(weight_fpath, overwrite=True)\n",
        "\n",
        "#         if as_json:\n",
        "#             model_fpath = model_subfolder+base_modelname+'_model.json'\n",
        "#             # Save the model architecture\n",
        "#             with open(model_fpath, 'w') as f:\n",
        "#                 f.write(model.to_json())\n",
        "#         else:\n",
        "#             model_fpath = model_subfolder+base_modelname+'_model.h5'\n",
        "#             model.save(model_fpath)\n",
        "#         if verbose: \n",
        "#             print(f\"[io] Model architecture saved as {model_fpath}\")\n",
        "#             print(f\"[io] Model weights saved as {weight_fpath}\")\n",
        "#         else:\n",
        "#             print(f\"[io] Successfully saved model.\")\n",
        "\n",
        "#     except Exception as e:\n",
        "#         import warnings\n",
        "#         warnings.warn(f\"ERROR SAVING: {e}\")\n",
        "#     if return_fpaths:\n",
        "#         return model_fpath, weight_fpath\n",
        "\n",
        "\n",
        "\n",
        "# def load_model(model_fpath,weight_fpath=None,as_json=True):\n",
        "#     from keras.models import model_from_json\n",
        "#     if (as_json == True) & (weight_fpath is None):\n",
        "#         raise Exception('If using as_json=True, must provide ')\n",
        "\n",
        "#     # Model reconstruction from JSON file\n",
        "#     with open(model_fpath, 'r',encoding=\"utf8\") as f:\n",
        "#         model2 = model_from_json(f.read())\n",
        "\n",
        "#     # Load weights into the new model\n",
        "#     model2.load_weights(weight_fpath)\n",
        "#     display(model2.summary())\n",
        "#     return model2\n",
        "\n",
        "# # model_fpath,weight_fpath = save_model(model)\n",
        "# # model_loaded = load_model(model_fpath,weight_fpath)"
      ],
      "execution_count": 51,
      "outputs": []
    },
    {
      "cell_type": "markdown",
      "metadata": {
        "id": "vtZ-fSjUkHF0"
      },
      "source": [
        "# Making Modeling functions for gridsearching"
      ]
    },
    {
      "cell_type": "code",
      "metadata": {
        "id": "UM7sFcOukGlq"
      },
      "source": [
        "# def build_model(SHAPES,filter_size=(3,3), pool_size=(2,2),dropout=True): \n",
        "#     vars_ = locals()\n",
        "#     print(f'[i] MODEL BUILT USING:\\n\\t{vars_}')\n",
        "#     # Part 1 - Building the CNN\n",
        "\n",
        "#     # Importing the Keras libraries and packages\n",
        "#     from tensorflow.keras.models import Sequential\n",
        "#     from tensorflow.keras.layers import Conv2D\n",
        "#     from tensorflow.keras.layers import MaxPooling2D\n",
        "#     from tensorflow.keras.layers import Flatten\n",
        "#     from tensorflow.keras.layers import Dense\n",
        "\n",
        "#     # Initialising the CNN\n",
        "#     classifier = Sequential()\n",
        "\n",
        "#     # Step 1 - Convolution\n",
        "#     classifier.add(Conv2D(SHAPES['Batchsize'], filter_size,\n",
        "#                                 input_shape = (SHAPES['img_width'], SHAPES['img_height'], SHAPES['img_dim']),\n",
        "#                                 activation = 'relu'))\n",
        "\n",
        "#     classifier.add(Conv2D(SHAPES['Batchsize'], filter_size,\n",
        "#                         input_shape = (SHAPES['img_width'], SHAPES['img_height'], SHAPES['img_dim']), activation = 'relu'))\n",
        "\n",
        "#     # Step 2 - Pooling\n",
        "#     classifier.add(MaxPooling2D(pool_size = pool_size))\n",
        "#     if dropout:\n",
        "#         classifier.add(Dropout(0.2))\n",
        "\n",
        "#     # Adding a second convolutional layer\n",
        "#     classifier.add(Conv2D(SHAPES['Batchsize'], filter_size, activation = 'relu'))\n",
        "#     classifier.add(MaxPooling2D(pool_size = pool_size))\n",
        "\n",
        "#     # Step 3 - Flattening\n",
        "#     classifier.add(Flatten())\n",
        "\n",
        "#     # Step 4 - Full connection\n",
        "#     classifier.add(Dense(units = SHAPES['Batchsize'], activation = 'relu'))\n",
        "#     classifier.add(Dense(units = 1, activation = 'sigmoid'))\n",
        "\n",
        "#     # Compiling the CNN\n",
        "#     classifier.compile(optimizer = 'adam', loss = 'binary_crossentropy',\n",
        "#                        metrics = ['accuracy'])\n",
        "#     display(classifier.summary())\n",
        "#     return classifier\n",
        "#     # Part 2 - Fitting the CNN to the images\n",
        "\n",
        "\n",
        "\n",
        "# def train_model(classifier,training_set, test_set, \n",
        "#                 params=dict(steps_per_epoch = 2000,\n",
        "#                             epochs = 3, validation_steps = 500,\n",
        "#                             workers=-1)):\n",
        "#     vars = locals()\n",
        "#     print(f'[i] Training model using\\n\\t{vars}\\n')\n",
        "#     clock = Timer()\n",
        "    \n",
        "#     history_ = classifier.fit_generator(training_set,\n",
        "#                                         validation_data = test_set,\n",
        "#                                         validation_steps=validation_steps,\n",
        "#                                         **params)\n",
        "#                         # workers=workers)\n",
        "\n",
        "#     clock.stop()\n",
        "#     return history_\n"
      ],
      "execution_count": 52,
      "outputs": []
    },
    {
      "cell_type": "code",
      "metadata": {
        "id": "w0QSQlduTX-I"
      },
      "source": [
        "\n",
        "# model_=build_model(SHAPES)\n",
        "# history = train_model(model_,training_set,test_set)\n",
        "# y_hat_val = model_.predict_classes(X_val).flatten()\n",
        "# evaluate_model(y_val,y_hat_val,history=history)"
      ],
      "execution_count": 53,
      "outputs": []
    },
    {
      "cell_type": "code",
      "metadata": {
        "id": "t7ORMaeMexle"
      },
      "source": [
        ""
      ],
      "execution_count": 53,
      "outputs": []
    },
    {
      "cell_type": "markdown",
      "metadata": {
        "id": "FtnmGCYraMWd"
      },
      "source": [
        "## Saving and Loading Models/Weights"
      ]
    },
    {
      "cell_type": "code",
      "metadata": {
        "id": "w-w_gmXrrOFX"
      },
      "source": [
        "# ## To save to Gdrive, must first chdir to My Drive (so there's no spaces in fpath)\n",
        "# curdir = os.path.abspath(os.curdir)\n",
        "\n",
        "# gdrive_folder =r'/gdrive/My Drive/'\n",
        "# model_subfolder = 'Datasets/Models/cat_vs_dog/'\n",
        "\n",
        "# try:\n",
        "#     os.chdir(gdrive_folder)\n",
        "#     os.makedirs(model_subfolder,exist_ok=True)\n",
        "# except Exception as e:\n",
        "#     print(f'ERROR: {e}')\n",
        "# os.listdir(model_subfolder)"
      ],
      "execution_count": 54,
      "outputs": []
    },
    {
      "cell_type": "code",
      "metadata": {
        "id": "AJmB5E5XVakv"
      },
      "source": [
        "# def save_model(model,model_subfolder = 'Datasets/Models/cat_vs_dog/',\n",
        "#                base_modelname = 'CNN_cat_dog_02142020', as_json=True,\n",
        "#                return_fpaths=True,verbose=True):\n",
        "#     # https://jovianlin.io/saving-loading-keras-models/\n",
        "#     try:\n",
        "#         weight_fpath = model_subfolder+base_modelname+'_weights.h5'\n",
        "#         model.save_weights(weight_fpath, overwrite=True)\n",
        "\n",
        "#         if as_json:\n",
        "#             model_fpath = model_subfolder+base_modelname+'_model.json'\n",
        "#             # Save the model architecture\n",
        "#             with open(model_fpath, 'w') as f:\n",
        "#                 f.write(model.to_json())\n",
        "#         else:\n",
        "#             model_fpath = model_subfolder+base_modelname+'_model.h5'\n",
        "#             model.save(model_fpath)\n",
        "#         if verbose: \n",
        "#             print(f\"[io] Model architecture saved as {model_fpath}\")\n",
        "#             print(f\"[io] Model weights saved as {weight_fpath}\")\n",
        "#         else:\n",
        "#             print(f\"[io] Successfully saved model.\")\n",
        "\n",
        "#     except Exception as e:\n",
        "#         import warnings\n",
        "#         warnings.warn(f\"ERROR SAVING: {e}\")\n",
        "#     if return_fpaths:\n",
        "#         return model_fpath, weight_fpath\n",
        "\n",
        "# model_fpath,weight_fpath = save_model(model)"
      ],
      "execution_count": 55,
      "outputs": []
    },
    {
      "cell_type": "code",
      "metadata": {
        "id": "ehR3dQfiYX13"
      },
      "source": [
        "# def load_model(model_fpath,weight_fpath=None,as_json=True):\n",
        "#     from keras.models import model_from_json\n",
        "#     if (as_json == True) & (weight_fpath is None):\n",
        "#         raise Exception('If using as_json=True, must provide ')\n",
        "\n",
        "#     # Model reconstruction from JSON file\n",
        "#     with open(model_fpath, 'r',encoding=\"utf8\") as f:\n",
        "#         model2 = model_from_json(f.read())\n",
        "\n",
        "#     # Load weights into the new model\n",
        "#     model2.load_weights(weight_fpath)\n",
        "#     display(model2.summary())\n",
        "#     return model2\n",
        "# model_loaded = load_model(model_fpath,weight_fpath)"
      ],
      "execution_count": 56,
      "outputs": []
    },
    {
      "cell_type": "code",
      "metadata": {
        "id": "_koIz3CKZ57v"
      },
      "source": [
        "# y_hat_val = model_loaded.predict_classes(X_val)\n",
        "# evaluate_model(y_val,y_hat_val)"
      ],
      "execution_count": 57,
      "outputs": []
    },
    {
      "cell_type": "markdown",
      "metadata": {
        "id": "QD8b7I_aECf2"
      },
      "source": [
        ""
      ]
    },
    {
      "cell_type": "markdown",
      "metadata": {
        "id": "dszu4vFoS2Mp"
      },
      "source": [
        "## Transfer Learning\n",
        "\n",
        "https://www.kaggle.com/risingdeveloper/transfer-learning-in-keras-on-dogs-vs-cats"
      ]
    },
    {
      "cell_type": "markdown",
      "metadata": {
        "id": "_0qlJUxlTXL0"
      },
      "source": [
        "\n",
        "\n",
        "- Pretrained networks have already been trained on large pools of data, and have their weights frozen.\n",
        "    - They enable deep learning on fairly small image datasets\n",
        "    - a 'small' dataset is less than tens of thousands or hundreds of thousands of images\n",
        "\n",
        "- Pretrained networks can be used in whole or only specific parts, depending on your need/data.\n",
        "    - The shallower the layer of neurons, the more generic its features are. \n",
        "        - Therefore even if you data is very different, you can still use the lower layers for basic feature extraction.\n",
        "    - The deeper the layer, the more abstract its features are.\n",
        "        - so you may want to unfreeze the deeper/higher order classificaiton layers and re-train the network on your images. \n",
        "<br><br>\n",
        "### Where to find the pre-trained networks\n",
        "- **Pretrained Networks are available in [Keras.applications](https://keras.io/applications/)**\n",
        "    - This list of pretained models are for image classification. \n",
        "        - DenseNet\n",
        "        - InceptionResNetV2\n",
        "        - InceptionV3\n",
        "        - MobileNet\n",
        "        - NASNet\n",
        "        - ResNet50\n",
        "        - VGG16\n",
        "        - *VGG19* - used in labs\n",
        "        - Xception\n",
        "\n",
        "    - You can import these networks and use it as a function with 2 arguments:\n",
        "        1. `weights`\n",
        "            - Determines which data source's training data weights to use.\n",
        "            - ex:  `weights='imagenet'\n",
        "        2. `include_top`\n",
        "            - determines whetehr or not to include the fully-connected layer at the top of the network\n",
        "```python\n",
        "from keras.applications import MobileNet\n",
        "conv_base = MobileNet(weights='imagenet', include_top=True)\n",
        "```\n",
        "\n",
        "### How to use pretrained networks for feature extraction or for fine-tuning\n",
        "\n",
        "**You'll learn about two ways to use pre-trained networks:**\n",
        "- **Feature extraction**: here, you use the representations learned by a previous network to extract interesting features from new samples. \n",
        "    - Method 1) Use the convolutional base layers and run your data to detect the basic features, and save the output data, which is then run a new dense classifier, which is trained from scratch.  \n",
        "        - (+) It is fast\n",
        "        - (-) but cant use data augmentation. \n",
        "        - Note:  If your images are very different from the pretraining datasets, you may want to only use _part_ of the convolutional base but a _new_ densely connected classifier\n",
        "    - Method 2) Extend the conv_base by adding dense layers on top, running everything together. \n",
        "        - (+) allows for data sugmentation\n",
        "        - (-) extremely time-consuming and requires GPU\n",
        "  \n",
        "- **Fine-tuning**: when finetuning, you'll \"unfreeze\" a few top layers from the convolutional base of the model and train them again together with the densely connected classifier layers of the model. \n",
        "    - Note that you are changing the parts of the convolutional layers here that were used to detect the more abstract features.\n",
        "    - By doing this, you can make your model more relevant for the classification problem at hand.\n",
        "\n",
        "## Additional Resources\n",
        "\n",
        "* http://cs231n.stanford.edu/syllabus.html\n",
        "* https://www.dlology.com/blog/gentle-guide-on-how-yolo-object-localization-works-with-keras/\n",
        "* https://www.dlology.com/blog/gentle-guide-on-how-yolo-object-localization-works-with-keras-part-2/\n"
      ]
    },
    {
      "cell_type": "code",
      "metadata": {
        "id": "TjBhwBGtTXL0",
        "outputId": "2355a366-d2d3-4800-a6eb-c8e1be0388f5",
        "colab": {
          "base_uri": "https://localhost:8080/"
        }
      },
      "source": [
        "from tensorflow.keras.applications import MobileNet\n",
        "conv_base = MobileNet(weights='imagenet',\n",
        "                  include_top = True)\n",
        "conv_base.summary()"
      ],
      "execution_count": 58,
      "outputs": [
        {
          "output_type": "stream",
          "text": [
            "Downloading data from https://storage.googleapis.com/tensorflow/keras-applications/mobilenet/mobilenet_1_0_224_tf.h5\n",
            "17227776/17225924 [==============================] - 1s 0us/step\n",
            "Model: \"mobilenet_1.00_224\"\n",
            "_________________________________________________________________\n",
            "Layer (type)                 Output Shape              Param #   \n",
            "=================================================================\n",
            "input_1 (InputLayer)         [(None, 224, 224, 3)]     0         \n",
            "_________________________________________________________________\n",
            "conv1_pad (ZeroPadding2D)    (None, 225, 225, 3)       0         \n",
            "_________________________________________________________________\n",
            "conv1 (Conv2D)               (None, 112, 112, 32)      864       \n",
            "_________________________________________________________________\n",
            "conv1_bn (BatchNormalization (None, 112, 112, 32)      128       \n",
            "_________________________________________________________________\n",
            "conv1_relu (ReLU)            (None, 112, 112, 32)      0         \n",
            "_________________________________________________________________\n",
            "conv_dw_1 (DepthwiseConv2D)  (None, 112, 112, 32)      288       \n",
            "_________________________________________________________________\n",
            "conv_dw_1_bn (BatchNormaliza (None, 112, 112, 32)      128       \n",
            "_________________________________________________________________\n",
            "conv_dw_1_relu (ReLU)        (None, 112, 112, 32)      0         \n",
            "_________________________________________________________________\n",
            "conv_pw_1 (Conv2D)           (None, 112, 112, 64)      2048      \n",
            "_________________________________________________________________\n",
            "conv_pw_1_bn (BatchNormaliza (None, 112, 112, 64)      256       \n",
            "_________________________________________________________________\n",
            "conv_pw_1_relu (ReLU)        (None, 112, 112, 64)      0         \n",
            "_________________________________________________________________\n",
            "conv_pad_2 (ZeroPadding2D)   (None, 113, 113, 64)      0         \n",
            "_________________________________________________________________\n",
            "conv_dw_2 (DepthwiseConv2D)  (None, 56, 56, 64)        576       \n",
            "_________________________________________________________________\n",
            "conv_dw_2_bn (BatchNormaliza (None, 56, 56, 64)        256       \n",
            "_________________________________________________________________\n",
            "conv_dw_2_relu (ReLU)        (None, 56, 56, 64)        0         \n",
            "_________________________________________________________________\n",
            "conv_pw_2 (Conv2D)           (None, 56, 56, 128)       8192      \n",
            "_________________________________________________________________\n",
            "conv_pw_2_bn (BatchNormaliza (None, 56, 56, 128)       512       \n",
            "_________________________________________________________________\n",
            "conv_pw_2_relu (ReLU)        (None, 56, 56, 128)       0         \n",
            "_________________________________________________________________\n",
            "conv_dw_3 (DepthwiseConv2D)  (None, 56, 56, 128)       1152      \n",
            "_________________________________________________________________\n",
            "conv_dw_3_bn (BatchNormaliza (None, 56, 56, 128)       512       \n",
            "_________________________________________________________________\n",
            "conv_dw_3_relu (ReLU)        (None, 56, 56, 128)       0         \n",
            "_________________________________________________________________\n",
            "conv_pw_3 (Conv2D)           (None, 56, 56, 128)       16384     \n",
            "_________________________________________________________________\n",
            "conv_pw_3_bn (BatchNormaliza (None, 56, 56, 128)       512       \n",
            "_________________________________________________________________\n",
            "conv_pw_3_relu (ReLU)        (None, 56, 56, 128)       0         \n",
            "_________________________________________________________________\n",
            "conv_pad_4 (ZeroPadding2D)   (None, 57, 57, 128)       0         \n",
            "_________________________________________________________________\n",
            "conv_dw_4 (DepthwiseConv2D)  (None, 28, 28, 128)       1152      \n",
            "_________________________________________________________________\n",
            "conv_dw_4_bn (BatchNormaliza (None, 28, 28, 128)       512       \n",
            "_________________________________________________________________\n",
            "conv_dw_4_relu (ReLU)        (None, 28, 28, 128)       0         \n",
            "_________________________________________________________________\n",
            "conv_pw_4 (Conv2D)           (None, 28, 28, 256)       32768     \n",
            "_________________________________________________________________\n",
            "conv_pw_4_bn (BatchNormaliza (None, 28, 28, 256)       1024      \n",
            "_________________________________________________________________\n",
            "conv_pw_4_relu (ReLU)        (None, 28, 28, 256)       0         \n",
            "_________________________________________________________________\n",
            "conv_dw_5 (DepthwiseConv2D)  (None, 28, 28, 256)       2304      \n",
            "_________________________________________________________________\n",
            "conv_dw_5_bn (BatchNormaliza (None, 28, 28, 256)       1024      \n",
            "_________________________________________________________________\n",
            "conv_dw_5_relu (ReLU)        (None, 28, 28, 256)       0         \n",
            "_________________________________________________________________\n",
            "conv_pw_5 (Conv2D)           (None, 28, 28, 256)       65536     \n",
            "_________________________________________________________________\n",
            "conv_pw_5_bn (BatchNormaliza (None, 28, 28, 256)       1024      \n",
            "_________________________________________________________________\n",
            "conv_pw_5_relu (ReLU)        (None, 28, 28, 256)       0         \n",
            "_________________________________________________________________\n",
            "conv_pad_6 (ZeroPadding2D)   (None, 29, 29, 256)       0         \n",
            "_________________________________________________________________\n",
            "conv_dw_6 (DepthwiseConv2D)  (None, 14, 14, 256)       2304      \n",
            "_________________________________________________________________\n",
            "conv_dw_6_bn (BatchNormaliza (None, 14, 14, 256)       1024      \n",
            "_________________________________________________________________\n",
            "conv_dw_6_relu (ReLU)        (None, 14, 14, 256)       0         \n",
            "_________________________________________________________________\n",
            "conv_pw_6 (Conv2D)           (None, 14, 14, 512)       131072    \n",
            "_________________________________________________________________\n",
            "conv_pw_6_bn (BatchNormaliza (None, 14, 14, 512)       2048      \n",
            "_________________________________________________________________\n",
            "conv_pw_6_relu (ReLU)        (None, 14, 14, 512)       0         \n",
            "_________________________________________________________________\n",
            "conv_dw_7 (DepthwiseConv2D)  (None, 14, 14, 512)       4608      \n",
            "_________________________________________________________________\n",
            "conv_dw_7_bn (BatchNormaliza (None, 14, 14, 512)       2048      \n",
            "_________________________________________________________________\n",
            "conv_dw_7_relu (ReLU)        (None, 14, 14, 512)       0         \n",
            "_________________________________________________________________\n",
            "conv_pw_7 (Conv2D)           (None, 14, 14, 512)       262144    \n",
            "_________________________________________________________________\n",
            "conv_pw_7_bn (BatchNormaliza (None, 14, 14, 512)       2048      \n",
            "_________________________________________________________________\n",
            "conv_pw_7_relu (ReLU)        (None, 14, 14, 512)       0         \n",
            "_________________________________________________________________\n",
            "conv_dw_8 (DepthwiseConv2D)  (None, 14, 14, 512)       4608      \n",
            "_________________________________________________________________\n",
            "conv_dw_8_bn (BatchNormaliza (None, 14, 14, 512)       2048      \n",
            "_________________________________________________________________\n",
            "conv_dw_8_relu (ReLU)        (None, 14, 14, 512)       0         \n",
            "_________________________________________________________________\n",
            "conv_pw_8 (Conv2D)           (None, 14, 14, 512)       262144    \n",
            "_________________________________________________________________\n",
            "conv_pw_8_bn (BatchNormaliza (None, 14, 14, 512)       2048      \n",
            "_________________________________________________________________\n",
            "conv_pw_8_relu (ReLU)        (None, 14, 14, 512)       0         \n",
            "_________________________________________________________________\n",
            "conv_dw_9 (DepthwiseConv2D)  (None, 14, 14, 512)       4608      \n",
            "_________________________________________________________________\n",
            "conv_dw_9_bn (BatchNormaliza (None, 14, 14, 512)       2048      \n",
            "_________________________________________________________________\n",
            "conv_dw_9_relu (ReLU)        (None, 14, 14, 512)       0         \n",
            "_________________________________________________________________\n",
            "conv_pw_9 (Conv2D)           (None, 14, 14, 512)       262144    \n",
            "_________________________________________________________________\n",
            "conv_pw_9_bn (BatchNormaliza (None, 14, 14, 512)       2048      \n",
            "_________________________________________________________________\n",
            "conv_pw_9_relu (ReLU)        (None, 14, 14, 512)       0         \n",
            "_________________________________________________________________\n",
            "conv_dw_10 (DepthwiseConv2D) (None, 14, 14, 512)       4608      \n",
            "_________________________________________________________________\n",
            "conv_dw_10_bn (BatchNormaliz (None, 14, 14, 512)       2048      \n",
            "_________________________________________________________________\n",
            "conv_dw_10_relu (ReLU)       (None, 14, 14, 512)       0         \n",
            "_________________________________________________________________\n",
            "conv_pw_10 (Conv2D)          (None, 14, 14, 512)       262144    \n",
            "_________________________________________________________________\n",
            "conv_pw_10_bn (BatchNormaliz (None, 14, 14, 512)       2048      \n",
            "_________________________________________________________________\n",
            "conv_pw_10_relu (ReLU)       (None, 14, 14, 512)       0         \n",
            "_________________________________________________________________\n",
            "conv_dw_11 (DepthwiseConv2D) (None, 14, 14, 512)       4608      \n",
            "_________________________________________________________________\n",
            "conv_dw_11_bn (BatchNormaliz (None, 14, 14, 512)       2048      \n",
            "_________________________________________________________________\n",
            "conv_dw_11_relu (ReLU)       (None, 14, 14, 512)       0         \n",
            "_________________________________________________________________\n",
            "conv_pw_11 (Conv2D)          (None, 14, 14, 512)       262144    \n",
            "_________________________________________________________________\n",
            "conv_pw_11_bn (BatchNormaliz (None, 14, 14, 512)       2048      \n",
            "_________________________________________________________________\n",
            "conv_pw_11_relu (ReLU)       (None, 14, 14, 512)       0         \n",
            "_________________________________________________________________\n",
            "conv_pad_12 (ZeroPadding2D)  (None, 15, 15, 512)       0         \n",
            "_________________________________________________________________\n",
            "conv_dw_12 (DepthwiseConv2D) (None, 7, 7, 512)         4608      \n",
            "_________________________________________________________________\n",
            "conv_dw_12_bn (BatchNormaliz (None, 7, 7, 512)         2048      \n",
            "_________________________________________________________________\n",
            "conv_dw_12_relu (ReLU)       (None, 7, 7, 512)         0         \n",
            "_________________________________________________________________\n",
            "conv_pw_12 (Conv2D)          (None, 7, 7, 1024)        524288    \n",
            "_________________________________________________________________\n",
            "conv_pw_12_bn (BatchNormaliz (None, 7, 7, 1024)        4096      \n",
            "_________________________________________________________________\n",
            "conv_pw_12_relu (ReLU)       (None, 7, 7, 1024)        0         \n",
            "_________________________________________________________________\n",
            "conv_dw_13 (DepthwiseConv2D) (None, 7, 7, 1024)        9216      \n",
            "_________________________________________________________________\n",
            "conv_dw_13_bn (BatchNormaliz (None, 7, 7, 1024)        4096      \n",
            "_________________________________________________________________\n",
            "conv_dw_13_relu (ReLU)       (None, 7, 7, 1024)        0         \n",
            "_________________________________________________________________\n",
            "conv_pw_13 (Conv2D)          (None, 7, 7, 1024)        1048576   \n",
            "_________________________________________________________________\n",
            "conv_pw_13_bn (BatchNormaliz (None, 7, 7, 1024)        4096      \n",
            "_________________________________________________________________\n",
            "conv_pw_13_relu (ReLU)       (None, 7, 7, 1024)        0         \n",
            "_________________________________________________________________\n",
            "global_average_pooling2d (Gl (None, 1024)              0         \n",
            "_________________________________________________________________\n",
            "reshape_1 (Reshape)          (None, 1, 1, 1024)        0         \n",
            "_________________________________________________________________\n",
            "dropout (Dropout)            (None, 1, 1, 1024)        0         \n",
            "_________________________________________________________________\n",
            "conv_preds (Conv2D)          (None, 1, 1, 1000)        1025000   \n",
            "_________________________________________________________________\n",
            "reshape_2 (Reshape)          (None, 1000)              0         \n",
            "_________________________________________________________________\n",
            "predictions (Activation)     (None, 1000)              0         \n",
            "=================================================================\n",
            "Total params: 4,253,864\n",
            "Trainable params: 4,231,976\n",
            "Non-trainable params: 21,888\n",
            "_________________________________________________________________\n"
          ],
          "name": "stdout"
        }
      ]
    },
    {
      "cell_type": "code",
      "metadata": {
        "ExecuteTime": {
          "end_time": "2020-02-13T16:28:41.130469Z",
          "start_time": "2020-02-13T16:28:19.339734Z"
        },
        "id": "B9xAQK1SlbSe"
      },
      "source": [
        "# from keras.applications import InceptionResNetV2\n",
        "\n",
        "# conv_base = InceptionResNetV2(weights='imagenet', include_top=False, input_shape=(150,150,3))\n",
        "# conv_base.summary()"
      ],
      "execution_count": 59,
      "outputs": []
    },
    {
      "cell_type": "code",
      "metadata": {
        "ExecuteTime": {
          "end_time": "2020-02-13T16:28:41.303392Z",
          "start_time": "2020-02-13T16:28:41.132620Z"
        },
        "id": "kKag2f0OlbSh"
      },
      "source": [
        ""
      ],
      "execution_count": 59,
      "outputs": []
    },
    {
      "cell_type": "code",
      "metadata": {
        "ExecuteTime": {
          "end_time": "2020-02-13T16:28:48.792947Z",
          "start_time": "2020-02-13T16:28:41.304826Z"
        },
        "id": "TKkdHFLxlbSj"
      },
      "source": [
        "# from keras import layers\n",
        "# from keras import models\n",
        "# model = models.Sequential()\n",
        "# model.add(conv_base)\n",
        "# model.add(layers.Flatten())\n",
        "# model.add(layers.Dense(32, activation='relu'))#256\n",
        "# model.add(layers.Dense(1, activation='sigmoid'))  #Sigmoid function at the end because we have just two classes\n",
        "# # model.summary()\n"
      ],
      "execution_count": 60,
      "outputs": []
    },
    {
      "cell_type": "code",
      "metadata": {
        "ExecuteTime": {
          "end_time": "2020-02-13T16:28:48.798283Z",
          "start_time": "2020-02-13T16:28:48.794242Z"
        },
        "id": "ave6CZillbSm"
      },
      "source": [
        "# print('Number of trainable weights before freezing the conv base:', len(model.trainable_weights))\n",
        "# conv_base.trainable = False\n",
        "# print('Number of trainable weights after freezing the conv base:', len(model.trainable_weights))"
      ],
      "execution_count": 61,
      "outputs": []
    },
    {
      "cell_type": "code",
      "metadata": {
        "id": "TIyRhBr60YAa"
      },
      "source": [
        ""
      ],
      "execution_count": 61,
      "outputs": []
    },
    {
      "cell_type": "code",
      "metadata": {
        "ExecuteTime": {
          "end_time": "2020-02-13T16:28:48.852453Z",
          "start_time": "2020-02-13T16:28:48.799636Z"
        },
        "id": "5a_puKjUlbSo"
      },
      "source": [
        "# from keras import optimizers\n",
        "\n",
        "# model.compile(loss='binary_crossentropy', optimizer=optimizers.RMSprop(lr=2e-5), metrics=['accuracy'])"
      ],
      "execution_count": 62,
      "outputs": []
    },
    {
      "cell_type": "code",
      "metadata": {
        "ExecuteTime": {
          "end_time": "2020-02-13T16:28:48.856533Z",
          "start_time": "2020-02-13T16:28:48.853517Z"
        },
        "id": "piJDSJIilbSq"
      },
      "source": [
        "# len(training_set)*32"
      ],
      "execution_count": 63,
      "outputs": []
    },
    {
      "cell_type": "code",
      "metadata": {
        "id": "6lBRMvb47liA"
      },
      "source": [
        ""
      ],
      "execution_count": 63,
      "outputs": []
    },
    {
      "cell_type": "code",
      "metadata": {
        "ExecuteTime": {
          "end_time": "2020-02-13T16:42:17.733053Z",
          "start_time": "2020-02-13T16:32:15.737807Z"
        },
        "id": "r6DHGjLplbSt"
      },
      "source": [
        "# history = model.fit_generator(training_set,\n",
        "#                               steps_per_epoch = 2000,\n",
        "#                               epochs = 2, validation_data = test_set,\n",
        "#                               validation_steps = 500,workers=-1)\n",
        "# y_hat_val = model.predict_classes(X_val)\n",
        "# evaluate_model(y_val,y_hat_val)"
      ],
      "execution_count": 64,
      "outputs": []
    },
    {
      "cell_type": "code",
      "metadata": {
        "id": "BWhbeB2k3Who"
      },
      "source": [
        "# pd.Series(y_hat_val).value_counts()"
      ],
      "execution_count": 65,
      "outputs": []
    },
    {
      "cell_type": "code",
      "metadata": {
        "id": "LL9Tz-nq2GZD"
      },
      "source": [
        "# save_model()"
      ],
      "execution_count": 66,
      "outputs": []
    },
    {
      "cell_type": "code",
      "metadata": {
        "id": "YQMdYErdlbSz"
      },
      "source": [
        ""
      ],
      "execution_count": 66,
      "outputs": []
    },
    {
      "cell_type": "code",
      "metadata": {
        "id": "Z8ZNM1XglbS1"
      },
      "source": [
        ""
      ],
      "execution_count": 66,
      "outputs": []
    },
    {
      "cell_type": "code",
      "metadata": {
        "id": "jKbFWJq9lbS4"
      },
      "source": [
        ""
      ],
      "execution_count": 66,
      "outputs": []
    },
    {
      "cell_type": "code",
      "metadata": {
        "id": "TCADvLJ3lbS6"
      },
      "source": [
        ""
      ],
      "execution_count": 66,
      "outputs": []
    },
    {
      "cell_type": "markdown",
      "metadata": {
        "id": "b0zTJgL_S5A_"
      },
      "source": [
        "# Use Pretrained CNNs\n"
      ]
    },
    {
      "cell_type": "markdown",
      "metadata": {
        "id": "7T_h3RDFS6i1"
      },
      "source": [
        "## Pretrained Networks Overview"
      ]
    },
    {
      "cell_type": "markdown",
      "metadata": {
        "id": "dQM6RuITSnXo"
      },
      "source": [
        "# APPENDIX"
      ]
    },
    {
      "cell_type": "code",
      "metadata": {
        "id": "AZMvXAsfQCBu"
      },
      "source": [
        "# ## IF WE WANT TO USE A DENSE-LAYERS-ONLY MODEL, will need batch sizes as number of images\n",
        "# def get_num_images(train_folder,folders=['dogs','cats'],verbose=True):\n",
        "#     \"\"\"Gets the total number of images from all folders listed\"\"\"\n",
        "#     num_images = 0\n",
        "#     for folder in folders:\n",
        "#         num_in_folder = len(os.listdir(train_folder+folder))\n",
        "        \n",
        "#         if verbose:\n",
        "#             print(f\"- There are {num_in_folder} images in {folder} folder.\")\n",
        "#         num_images+=num_in_folder\n",
        "#     return num_images\n",
        "\n",
        "\n",
        "# # ## Get the Number of total images for batch size \n",
        "# # NUM_TRAIN_IMGS = get_num_images(train_folder)\n",
        "# # NUM_VAL_TEST_IMGS = get_num_images(test_folder)\n",
        "# # print(f\"Training images: {NUM_TRAIN_IMGS}\")\n",
        "# # print(f\"Test & Val images: {NUM_VAL_TEST_IMGS}\")\n",
        "\n",
        "# # ## Make validation split\n",
        "# # VAL_SPLIT = 0.2\n",
        "# # NUM_VAL_IMGS = round(NUM_VAL_TEST_IMGS*VAL_SPLIT)\n",
        "# # NUM_TEST_IMGS = round(NUM_VAL_TEST_IMGS*(1-VAL_SPLIT))\n",
        "\n",
        "# # NUM_TRAIN_IMGS,NUM_TEST_IMGS,NUM_VAL_IMGS"
      ],
      "execution_count": 67,
      "outputs": []
    },
    {
      "cell_type": "code",
      "metadata": {
        "id": "ZdQvvc9kGwvD"
      },
      "source": [
        "# def cd_gdrive_mkdirs(model_subfolder='Datasets/Models/cat_vs_dog/'):\n",
        "#     \"\"\"cd to /gdrive/My Drive/ to allow for saving files to google drive\n",
        "#     Also makes all subfolders in 'model_subfolder'\"\"\"\n",
        "    \n",
        "#     import os\n",
        "#     ## To save to Gdrive, must first chdir to My Drive (so there's no spaces in fpath)\n",
        "#     curdir = os.path.abspath(os.curdir)\n",
        "#     gdrive_folder =r'/gdrive/My Drive/'\n",
        "\n",
        "#     try:\n",
        "#         os.chdir(gdrive_folder)\n",
        "#     except Exception as e:\n",
        "#         print(f'ERROR: {e}')\n",
        "\n",
        "#     try:\n",
        "#         os.makedirs(model_subfolder,exist_ok=True)\n",
        "#         print('Directories created.')\n",
        "#     except:\n",
        "#         print('Error making directories')\n",
        "\n",
        "#     return print(os.path.abspath(os.curdir))\n"
      ],
      "execution_count": 68,
      "outputs": []
    },
    {
      "cell_type": "code",
      "metadata": {
        "id": "b1MAWrJWfr0F"
      },
      "source": [
        "# MODEL_SUBFOLDER='Datasets/Models/cat_vs_dog/'\n",
        "# cd_gdrive_mkdirs(model_subfolder=MODEL_SUBFOLDER)\n",
        "\n",
        "# print('\\n',MODEL_SUBFOLDER)\n",
        "# os.listdir(MODEL_SUBFOLDER)"
      ],
      "execution_count": 69,
      "outputs": []
    },
    {
      "cell_type": "markdown",
      "metadata": {
        "id": "FZITkXnvTLUI"
      },
      "source": [
        "## Copy Zip File to Virtual Machine"
      ]
    },
    {
      "cell_type": "markdown",
      "metadata": {
        "id": "epOWnkSMSovP"
      },
      "source": [
        "\n",
        "\n",
        "```python\n",
        "from google.colab import drive\n",
        "drive.mount('/gdrive',force_remount=True)\n",
        "# %cd /gdrive\n",
        "%cd ~\n",
        "%cd ..\n",
        "\n",
        "\n",
        "import os,glob\n",
        "print(os.path.abspath(os.curdir))\n",
        "\n",
        "source_folder = r'/gdrive/My Drive/Datasets/'\n",
        "target_folder = r'/content/'\n",
        "file = glob.glob(source_folder+'*.zip',recursive=True)\n",
        "file=file[0]\n",
        "```\n",
        "\n",
        "```python\n",
        "## Unzip data\n",
        "zip_path = file\n",
        "\n",
        "!cp \"{zip_path}\" .\n",
        "\n",
        "!unzip -q dogs-vs-cats-sorted.zip\n",
        "!rm dogs-vs-cats-sorted.zip\n",
        "```"
      ]
    },
    {
      "cell_type": "markdown",
      "metadata": {
        "id": "OtdzAPsJSbWI"
      },
      "source": [
        "## Using  Pretrained Networks - Codealong\n"
      ]
    },
    {
      "cell_type": "markdown",
      "metadata": {
        "id": "OStc-MxyrNMY"
      },
      "source": [
        "\n",
        "### Feature Extraction Method 1:\n",
        "\n",
        "```python\n",
        "from keras.applications import VGG19\n",
        "cnn_base = VGG19(weights='imagenet',\n",
        "                  include_top=False,\n",
        "                  input_shape=(64, 64, 3))\n",
        "cnn_base.summary()\n",
        "\n",
        "# ---\n",
        "\n",
        "def extract_features(directory, sample_amount):\n",
        "    features = np.zeros(shape=(sample_amount, 2, 2, 512)) \n",
        "    labels = np.zeros(shape=(sample_amount))\n",
        "    generator = datagen.flow_from_directory(\n",
        "        directory, target_size=(64, 64), \n",
        "        batch_size = 10, \n",
        "        class_mode='binary')\n",
        "    i=0\n",
        "    for inputs_batch, labels_batch in generator:\n",
        "        features_batch = cnn_base.predict(inputs_batch)\n",
        "        features[i * batch_size : (i + 1) * batch_size] = features_batch \n",
        "        labels[i * batch_size : (i + 1) * batch_size] = labels_batch\n",
        "        i = i + 1\n",
        "        if i * batch_size >= sample_amount:\n",
        "            break\n",
        "    return features, labels\n",
        "\n",
        "# ---\n",
        "\n",
        "# you should be able to divide sample_amount by batch_size!!\n",
        "train_features, train_labels = extract_features(train_folder, 540) \n",
        "validation_features, validation_labels = extract_features(val_folder, 200) \n",
        "test_features, test_labels = extract_features(test_folder, 180)\n",
        "\n",
        "train_features = np.reshape(train_features, (540, 2 * 2 * 512))\n",
        "validation_features = np.reshape(validation_features, (200, 2 * 2 * 512))\n",
        "test_features = np.reshape(test_features, (180, 2 * 2 * 512))\n",
        "\n",
        "# ---\n",
        "\n",
        "from keras import models\n",
        "from keras import layers\n",
        "from keras import optimizers\n",
        "\n",
        "model = models.Sequential()\n",
        "model.add(layers.Dense(256, activation='relu', input_dim=2 * 2 * 512))\n",
        "model.add(layers.Dense(1, activation='sigmoid'))\n",
        "\n",
        "model.compile(optimizer=optimizers.RMSprop(lr=1e-4),\n",
        "              loss='binary_crossentropy',\n",
        "              metrics=['acc'])\n",
        "history = model.fit(train_features, train_labels,\n",
        "                    epochs=20,\n",
        "                    batch_size=10,\n",
        "                    validation_data=(validation_features, validation_labels))\n",
        "\n",
        "results_test = model.evaluate(test_features, test_labels)\n",
        "\n",
        "# ---\n",
        "\n",
        "train_acc = history.history['acc']\n",
        "val_acc = history.history['val_acc']\n",
        "train_loss = history.history['loss']\n",
        "val_loss = history.history['val_loss']\n",
        "epch = range(1, len(train_acc) + 1)\n",
        "plt.plot(epch, train_acc, 'g.', label='Training Accuracy')\n",
        "plt.plot(epch, val_acc, 'g', label='Validation acc')\n",
        "plt.title('Accuracy')\n",
        "plt.legend()\n",
        "plt.figure()\n",
        "plt.plot(epch, train_loss, 'r.', label='Training loss')\n",
        "plt.plot(epch, val_loss, 'r', label='Validation loss')\n",
        "plt.title('Loss')\n",
        "plt.legend()\n",
        "plt.show()\n",
        "\n",
        "#---\n",
        "\n",
        "```\n",
        "\n",
        "## Feature Extraction Method 2\n",
        " - this method is much more costly, but allows us to use data augmentation\n",
        " \n",
        "- The process:\n",
        "    1. Add the pretrained model as the first layer\n",
        "    2. Add some dense layers as a classifier on top\n",
        "    3. Freeze the convolutional base\n",
        "        - This will prevent the weights from changing. \n",
        "        - The layer.trainable attribute indicates if a layer is frozen\n",
        "    4. Train the model. \n",
        "    \n",
        "    \n",
        "```python\n",
        "\n",
        "model = models.Sequential()\n",
        "model.add(cnn_base)\n",
        "model.add(layers.Flatten())\n",
        "model.add(layers.Dense(132, activation='relu'))\n",
        "model.add(layers.Dense(1, activation='sigmoid'))\n",
        "\n",
        "# ---\n",
        "\n",
        "#You can check whether a layer is trainable (or alter its setting) through the layer.trainable attribute:\n",
        "for layer in model.layers:\n",
        "    print(layer.name, layer.trainable)\n",
        "    \n",
        "#Similarly, we can check how many trainable weights are in the model:\n",
        "print(len(model.trainable_weights))\n",
        "\n",
        "# ---\n",
        "\n",
        "# Freeze the conv base\n",
        "cnn_base.trainable = False\n",
        "\n",
        "\n",
        "# ---\n",
        "\n",
        "# get all the data in the directory split/train (542 images), and reshape them\n",
        "train_datagen = ImageDataGenerator(\n",
        "      rescale=1./255,\n",
        "      rotation_range=40,\n",
        "      width_shift_range=0.2,\n",
        "      height_shift_range=0.2,\n",
        "      shear_range=0.2,\n",
        "      zoom_range=0.2,\n",
        "      horizontal_flip=True,\n",
        "      fill_mode='nearest')\n",
        "\n",
        "train_generator = train_datagen.flow_from_directory(\n",
        "        train_folder, \n",
        "        target_size=(64, 64), \n",
        "        batch_size= 20,\n",
        "        class_mode= 'binary') \n",
        "\n",
        "# get all the data in the directory split/validation (200 images), and reshape them\n",
        "val_generator = ImageDataGenerator(rescale=1./255).flow_from_directory(\n",
        "        val_folder, \n",
        "        target_size=(64, 64), \n",
        "        batch_size = 20,\n",
        "        class_mode= 'binary')\n",
        "\n",
        "# get all the data in the directory split/test (180 images), and reshape them\n",
        "test_generator = ImageDataGenerator(rescale=1./255).flow_from_directory(\n",
        "        test_folder, \n",
        "        target_size=(64, 64), \n",
        "        batch_size = 180,\n",
        "        class_mode= 'binary')\n",
        "\n",
        "test_images, test_labels = next(test_generator)\n",
        "\n",
        "# ---\n",
        "\n",
        "model.compile(loss='binary_crossentropy',\n",
        "              optimizer=optimizers.RMSprop(lr=2e-5),\n",
        "              metrics=['acc'])\n",
        "\n",
        "# ---\n",
        "\n",
        "history = model.fit_generator(\n",
        "              train_generator,\n",
        "              steps_per_epoch= 27,\n",
        "              epochs = 10,\n",
        "              validation_data = val_generator,\n",
        "              validation_steps = 10)\n",
        "\n",
        "```\n",
        "\n"
      ]
    },
    {
      "cell_type": "markdown",
      "metadata": {
        "id": "d0sjUefMuIs0"
      },
      "source": [
        "## Fine Tuning"
      ]
    },
    {
      "cell_type": "markdown",
      "metadata": {
        "id": "ey5E6in_uGHO"
      },
      "source": [
        "Up till now, we have frozen the entire convolutional base. Again, it cannot be stressed enough how important this is before fine tuning the weights of the later layers of this base. Without training a classifier on the frozen base first, there will be too much noise in the model and initial epochs will overwrite any useful representations encoded in the pretrained model. That said, now that we have tuned a classifier to the frozen base, we can now unfreeze a few of the deeper layers from this base and further fine tune them to our problem scenario. In practice, this is apt to be particularly helpful where adapted models span new domain categories. For example, if the pretrained model is on cats and dogs and this is adapted to a problem specific to cats (a very relatively similar domain) there is apt to be little performance gain from fine tuning. On the other hand, if the problem domain is more substantially different, additional gains are more likely in adjusting these more abstract layers of the convolutional base. With that, let's take a look at how to unfreeze and fine tune these later layers.\n",
        "\n",
        "\n",
        "\n",
        "```python\n",
        "\n",
        "cnn_base.trainable = True\n",
        "\n",
        "# ---\n",
        "\n",
        "cnn_base.trainable = True\n",
        "set_trainable = False\n",
        "for layer in cnn_base.layers:\n",
        "    if layer.name == 'block5_conv1':\n",
        "        set_trainable = True\n",
        "    if set_trainable:\n",
        "        layer.trainable = True\n",
        "    else:\n",
        "        layer.trainable = False\n",
        "        \n",
        "        \n",
        "# ---\n",
        "\n",
        "model.compile(loss='binary_crossentropy',\n",
        "                      optimizer=optimizers.RMSprop(lr=1e-4),\n",
        "                      metrics=['accuracy'])\n",
        "\n",
        "# ---\n",
        "history = model.fit_generator(\n",
        "              train_generator,\n",
        "              steps_per_epoch= 27,\n",
        "              epochs = 10,\n",
        "              validation_data = val_generator,\n",
        "              validation_steps = 10)\n"
      ]
    },
    {
      "cell_type": "code",
      "metadata": {
        "id": "mtyhyKPOrgY5"
      },
      "source": [
        ""
      ],
      "execution_count": 69,
      "outputs": []
    },
    {
      "cell_type": "markdown",
      "metadata": {
        "id": "C7A_91wjihqa"
      },
      "source": [
        "## Functions from 100719 Class"
      ]
    },
    {
      "cell_type": "markdown",
      "metadata": {
        "id": "CyPrYuEkecxz"
      },
      "source": [
        "- Updated plot_keras_history (works with 'acc' or 'accuracy' metric name)\n",
        "- "
      ]
    },
    {
      "cell_type": "code",
      "metadata": {
        "id": "f8RY4Nr2ihgX"
      },
      "source": [
        "# import sklearn.metrics as metrics\n",
        "# import matplotlib.pyplot as plt\n",
        "# import numpy as np\n",
        "# import pandas as pd\n",
        "\n",
        "\n",
        "\n",
        "# # def plot_confusion_matrix(conf_matrix, classes = None, normalize=True,\n",
        "# #                           title='Confusion Matrix', cmap=\"Blues\",\n",
        "# #                           print_raw_matrix=False,\n",
        "# #                           fig_size=(4,4)):\n",
        "# #     \"\"\"Check if Normalization Option is Set to True. \n",
        "# #     If so, normalize the raw confusion matrix before visualizing\n",
        "# #     #Other code should be equivalent to your previous function.\n",
        "# #     Note: Taken from bs_ds and modified\n",
        "# #     - Can pass a tuple of (y_true,y_pred) instead of conf matrix.\n",
        "# #     \"\"\"\n",
        "# #     import itertools\n",
        "# #     import numpy as np\n",
        "# #     import matplotlib.pyplot as plt\n",
        "# #     import sklearn.metrics as metrics\n",
        "    \n",
        "# #     ## make confusion matrix if given tuple of y_true,y_pred\n",
        "# #     if isinstance(conf_matrix, tuple):\n",
        "# #         y_true = conf_matrix[0].copy()\n",
        "# #         y_pred = conf_matrix[1].copy()\n",
        "        \n",
        "# #         if y_true.ndim>1:\n",
        "# #             y_true = y_true.argmax(axis=1)\n",
        "# #         if y_pred.ndim>1:\n",
        "# #             y_pred = y_pred.argmax(axis=1)\n",
        "# #         cm = metrics.confusion_matrix(y_true,y_pred)\n",
        "# #     else:\n",
        "# #         cm = conf_matrix\n",
        "        \n",
        "# #     ## Generate integer labels for classes\n",
        "# #     if classes is None:\n",
        "# #         classes = list(range(len(cm)))  \n",
        "        \n",
        "# #     ## Normalize data\n",
        "# #     if normalize:\n",
        "# #         cm = cm.astype('float') / cm.sum(axis=1)[:, np.newaxis]\n",
        "# #         fmt='.2f'\n",
        "# #     else:\n",
        "# #         fmt= 'd'\n",
        "        \n",
        "        \n",
        "# #     fontDict = {\n",
        "# #         'title':{\n",
        "# #             'fontsize':16,\n",
        "# #             'fontweight':'semibold',\n",
        "# #             'ha':'center',\n",
        "# #             },\n",
        "# #         'xlabel':{\n",
        "# #             'fontsize':14,\n",
        "# #             'fontweight':'normal',\n",
        "# #             },\n",
        "# #         'ylabel':{\n",
        "# #             'fontsize':14,\n",
        "# #             'fontweight':'normal',\n",
        "# #             },\n",
        "# #         'xtick_labels':{\n",
        "# #             'fontsize':10,\n",
        "# #             'fontweight':'normal',\n",
        "# #     #             'rotation':45,\n",
        "# #             'ha':'right',\n",
        "# #             },\n",
        "# #         'ytick_labels':{\n",
        "# #             'fontsize':10,\n",
        "# #             'fontweight':'normal',\n",
        "# #             'rotation':0,\n",
        "# #             'ha':'right',\n",
        "# #             },\n",
        "# #         'data_labels':{\n",
        "# #             'ha':'center',\n",
        "# #             'fontweight':'semibold',\n",
        "\n",
        "# #         }\n",
        "# #     }\n",
        "\n",
        "# #     # Create plot\n",
        "# #     fig,ax = plt.subplots(figsize=fig_size)\n",
        "\n",
        "# #     plt.imshow(cm, interpolation='nearest', cmap=cmap)\n",
        "# #     plt.title(title,**fontDict['title'])\n",
        "# #     plt.colorbar()\n",
        "\n",
        "# #     tick_marks = classes#np.arange(len(classes))\n",
        "\n",
        "\n",
        "# #     plt.xticks(tick_marks, classes, **fontDict['xtick_labels'])\n",
        "# #     plt.yticks(tick_marks, classes,**fontDict['ytick_labels'])\n",
        "\n",
        "# #     # Determine threshold for b/w text\n",
        "# #     thresh = cm.max() / 2.\n",
        "\n",
        "# #     # fig,ax = plt.subplots()\n",
        "# #     for i, j in itertools.product(range(cm.shape[0]), range(cm.shape[1])):\n",
        "# #         plt.text(j, i, format(cm[i, j], fmt),\n",
        "# #                  color='darkgray',**fontDict['data_labels']) #color=\"white\" if cm[i, j] > thresh else \"black\"\n",
        "\n",
        "# #     plt.tight_layout()\n",
        "# #     plt.ylabel('True label',**fontDict['ylabel'])\n",
        "# #     plt.xlabel('Predicted label',**fontDict['xlabel'])\n",
        "\n",
        "# #     if print_raw_matrix:\n",
        "# #         print_title = 'Raw Confusion Matrix Counts:'\n",
        "# #         print('\\n',print_title)\n",
        "# #         print(conf_matrix)\n",
        "\n",
        "\n",
        "# #     fig = plt.gcf()\n",
        "# #     return fig\n",
        "\n",
        "\n",
        "    \n",
        "# def evaluate_model(y_true, y_pred,history=None):\n",
        "#     from sklearn import metrics\n",
        "#     if y_true.ndim>1:\n",
        "#         y_true = y_true.argmax(axis=1)\n",
        "#     if y_pred.ndim>1:\n",
        "#         y_pred = y_pred.argmax(axis=1)   \n",
        "#     try:    \n",
        "#         if history is not None:\n",
        "#             plot_keras_history(history)\n",
        "#     except:\n",
        "#         pass\n",
        "    \n",
        "#     num_dashes=20\n",
        "#     print('\\n')\n",
        "#     print('---'*num_dashes)\n",
        "#     print('\\tCLASSIFICATION REPORT:')\n",
        "#     print('---'*num_dashes)\n",
        "#     try:\n",
        "#         print(metrics.classification_report(y_true,y_pred))\n",
        "        \n",
        "#         fig = plot_confusion_matrix((y_true,y_pred))\n",
        "#         plt.show()\n",
        "#     except Exception as e:\n",
        "#         print(f\"[!] Error during model evaluation:\\n\\t{e}\")\n",
        "\n",
        "\n",
        "    \n",
        "# class Timer():\n",
        "#     def __init__(self, start=True,time_fmt='%m/%d/%y - %T'):\n",
        "#         import tzlocal\n",
        "#         import datetime as dt\n",
        "        \n",
        "#         self.tz = tzlocal.get_localzone()\n",
        "#         self.fmt= time_fmt\n",
        "#         self._created = dt.datetime.now(tz=self.tz)\n",
        "        \n",
        "#         if start:\n",
        "#             self.start()\n",
        "            \n",
        "#     def get_time(self):\n",
        "#         import datetime as dt\n",
        "#         return dt.datetime.now(tz=self.tz)\n",
        "\n",
        "        \n",
        "#     def start(self,verbose=True):\n",
        "#         self._laps_completed = 0\n",
        "#         self.start = self.get_time()\n",
        "#         if verbose: \n",
        "#             print(f'[i] Timer started at {self.start.strftime(self.fmt)}')\n",
        "    \n",
        "#     def stop(self, verbose=True):\n",
        "#         self._laps_completed += 1\n",
        "#         self.end = self.get_time()\n",
        "#         self.elapsed = self.end -  self.start\n",
        "#         if verbose: \n",
        "#             print(f'[i] Timer stopped at {self.end.strftime(self.fmt)}')\n",
        "#             print(f'  - Total Time: {self.elapsed}')\n",
        "    \n",
        "    \n",
        "    \n",
        "# from sklearn.metrics import make_scorer\n",
        "# def my_custom_scorer(y_true,y_pred,verbose=True):#,scoring='accuracy',verbose=True):\n",
        "#     \"\"\"My custom score function to use with sklearn's GridSearchCV\n",
        "#     Maximizes the average accuracy per class using a normalized confusion matrix\"\"\"\n",
        "\n",
        "#     import sklearn.metrics as metrics\n",
        "#     from sklearn.metrics import confusion_matrix\n",
        "#     import numpy as np\n",
        "\n",
        "#     ## reduce dimensions of y_train and y_test\n",
        "#     if y_true.ndim>1:            \n",
        "#         y_true = y_true.argmax(axis=1)\n",
        "\n",
        "#     if y_pred.ndim>1:\n",
        "#         y_pred = y_pred.argmax(axis=1)\n",
        "        \n",
        "#     evaluate_model(y_true,y_pred)\n",
        "#     print('\\n\\n')\n",
        "#     return metrics.accuracy_score(y_true,y_pred)\n",
        "\n",
        "\n",
        "\n",
        "# def get_secret_password(file='/Users/jamesirving/.secret/gmail.json'):\n",
        "#     with open(file) as file:\n",
        "#         import json\n",
        "#         gmail = json.loads(file.read())\n",
        "#     # email_notification()\n",
        "#     print(gmail.keys())\n",
        "#     return gmail\n",
        "\n",
        "\n",
        "# # def email_notification(password_obj=None,subject='GridSearch Finished',\n",
        "# #                        msg='The GridSearch is now complete.'):\n",
        "# #     \"\"\"Sends email notification from gmail account using previously encrypyted password  object (an instance\n",
        "# #     of EncrypytedPassword). \n",
        "# #     Args:\n",
        "# #         password_obj (dict): Login info dict with keys: username,password.\n",
        "# #         subject (str):Text for subject line.\n",
        "# #         msg (str): Text for body of email. \n",
        "\n",
        "# #     Returns:\n",
        "# #         Prints `Email sent!` if email successful. \n",
        "# #     \"\"\"\n",
        "# #     if password_obj is None:\n",
        "# #         gmail = get_secret_password()\n",
        "# #     else:\n",
        "# #         assert ('username' in password_obj)&('password' in password_obj)\n",
        "# #         gmail = password_obj\n",
        "        \n",
        "# #     if isinstance(msg,str)==False:\n",
        "# #         msg=str(msg)\n",
        "        \n",
        "    \n",
        "# #     # import required packages\n",
        "# #     import smtplib\n",
        "# #     from email.mime.multipart import MIMEMultipart\n",
        "# #     from email.mime.text import MIMEText\n",
        "# #     from email.mime.image import MIMEImage\n",
        "# #     from email import encoders\n",
        "    \n",
        "\n",
        "# #     ## WRITE EMAIL\n",
        "# #     message = MIMEMultipart()\n",
        "# #     message['Subject'] =subject\n",
        "# #     message['To'] = gmail['username']\n",
        "# #     message['From'] = gmail['username']\n",
        "# #     message.attach(MIMEText(msg,'plain'))\n",
        "# #     text_message = message.as_string()\n",
        "\n",
        "\n",
        "# #     # Send email request\n",
        "# #     try:\n",
        "# #         with  smtplib.SMTP_SSL('smtp.gmail.com',465) as server:\n",
        "            \n",
        "# #             server.login(gmail['username'],gmail['password'])\n",
        "# #             server.sendmail(gmail['username'],gmail['username'], text_message)#text_message)\n",
        "# #             server.close()\n",
        "# #             print(f\"Email sent to {gmail['username']}!\")\n",
        "        \n",
        "# #     except Exception as e:\n",
        "# #         print(e)\n",
        "# #         print('Something went wrong')\n",
        "       \n",
        "       \n",
        "       \n",
        "# # def prepare_gridsearch_report(grid_search,X_test,y_test,\n",
        "# #                               save_path = 'results/emails/'):\n",
        "# #     \"\"\"Creates a text report with grid search results \n",
        "# #     and saves it to disk. Text is returned and can be attached as \n",
        "# #     the `msg` param for email_notification'\"\"\"\n",
        "# #     ## Make folders for saving email contents\n",
        "# #     import os,sys\n",
        "# #     import sklearn.metrics as metrics\n",
        "# #     os.makedirs(save_path,exist_ok=True)\n",
        "    \n",
        "# #     ## Get time afor report\n",
        "# #     import datetime as dt\n",
        "# #     import tzlocal as tz\n",
        "# #     now = dt.datetime.now(tz.get_localzone())\n",
        "                  \n",
        "# #     time = now.strftime(\"%m/%d/%Y - %I:%M %p\")  \n",
        "    \n",
        "# #     ## filepaths for fig and report\n",
        "# #     fig_fpath = save_path+'confusion_matrix.png'\n",
        "# #     msg_text_path = save_path+'msg.txt'\n",
        "\n",
        "    \n",
        "# #     ## GET BEST PARAMS AND MODEL\n",
        "# #     best_params = str(grid_search.best_params_)\n",
        "# #     best_model = grid_search.best_estimator_#(grid.best_params_)\n",
        "    \n",
        "# #     # Get predictions\n",
        "# #     y_hat_test = best_model.predict(X_test)\n",
        "    \n",
        "# #     ## Get Classification report\n",
        "# #     report = metrics.classification_report(y_test.argmax(axis=1),y_hat_test)\n",
        "    \n",
        "# #     ## Get text confusion matrix\n",
        "# #     cm = np.round(metrics.confusion_matrix(y_test.argmax(axis=1),y_hat_test,normalize='true'),2)\n",
        "# #     cm_str = str(cm)\n",
        "\n",
        "          \n",
        "# #     ## Combine text for report\n",
        "# #     msg_text = [f'Grid Search Results from {time}:\\n']\n",
        "# #     msg_text = ['The best params were:\\n\\t']\n",
        "# #     msg_text.append(best_params)\n",
        "# #     msg_text.append('\\n\\n')\n",
        "# #     msg_text.append('Classification Report:\\n')\n",
        "# #     msg_text.append(report)\n",
        "# #     msg_text.append('\\n\\n')\n",
        "\n",
        "# #     msg_text.append('Confusion Matrix (normalized to true labels):\\n')\n",
        "# #     msg_text.append(cm_str)\n",
        "                  \n",
        "\n",
        "    \n",
        "# #     ## Save the text to file\n",
        "# #     with open(msg_text_path,'w+') as f:\n",
        "# #         f.writelines(msg_text)\n",
        "# #     print(f\"Message saved as {msg_text_path}\")\n",
        "                  \n",
        "# #     ## Load the (fixed) text from file\n",
        "# #     with open(msg_text_path,'r') as f:\n",
        "# #         txt = f.read()\n",
        "        \n",
        "# #     ## Plot and save confusion matrix\n",
        "# #     fig = plot_confusion_matrix((y_test,y_hat_test))\n",
        "# #     try:\n",
        "# #         fig.savefig(fig_fpath, dpi=300, facecolor='w', edgecolor='w', orientation='portrait',\n",
        "# #                     papertype=None, format=None, transparent=False, bbox_inches=None, pad_inches=0.1, frameon=None, metadata=None)\n",
        "# #         print(f\"Figure saved as {fig_fpath}\")           \n",
        "# #     except Exception as e:\n",
        "# #         print(f\"[!] ERROR saving figure:\\n\\t{e}\")\n",
        "        \n",
        "# #     return txt#,fig"
      ],
      "execution_count": 70,
      "outputs": []
    }
  ]
}